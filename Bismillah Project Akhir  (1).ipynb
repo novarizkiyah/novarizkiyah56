{
 "cells": [
  {
   "cell_type": "markdown",
   "metadata": {
    "colab_type": "text",
    "id": "nt-rG12zGQGx"
   },
   "source": [
    "<center><h1>FINAL PROJECT</h1></center>"
   ]
  },
  {
   "cell_type": "markdown",
   "metadata": {
    "colab_type": "text",
    "id": "sDnop2ZMGQG2"
   },
   "source": [
    "<center><h1> CLASSIFICATION READMITTED OF DATA DIABETES </h1></center>"
   ]
  },
  {
   "cell_type": "markdown",
   "metadata": {
    "colab_type": "text",
    "id": "q9xptqEQGQG4"
   },
   "source": [
    "# <center><h3>BY</h3></center>\n",
    "<center><h3>Nova Lailatul Rizkiyah</h3></center>\n",
    "<center><h3>Devi Noor Endrawati</h3></center>\n",
    "<center><h3>Amirul Mu'minin</h3></center>"
   ]
  },
  {
   "cell_type": "markdown",
   "metadata": {
    "colab_type": "text",
    "id": "r_4cgrkoGQG7"
   },
   "source": [
    "<center><h3></h3></center>\n",
    "<center><h3></h3></center>"
   ]
  },
  {
   "cell_type": "markdown",
   "metadata": {
    "colab_type": "text",
    "id": "NJUvQ2fddNZ4"
   },
   "source": [
    "# DATA"
   ]
  },
  {
   "cell_type": "code",
   "execution_count": 1,
   "metadata": {
    "colab": {},
    "colab_type": "code",
    "id": "-1IkLAV_GQG9"
   },
   "outputs": [],
   "source": [
    "import pandas as pd\n",
    "import numpy as np\n",
    "from sklearn import preprocessing\n",
    "from statistics import mode\n",
    "import statsmodels.api as sm\n",
    "import matplotlib.pyplot as plt \n",
    "\n",
    "\n",
    "from sklearn.neighbors import KNeighborsClassifier\n",
    "from sklearn.naive_bayes import GaussianNB\n",
    "from sklearn.linear_model import LogisticRegression\n",
    "from sklearn.svm import SVC\n",
    "from sklearn.tree import DecisionTreeClassifier\n",
    "from sklearn.ensemble import RandomForestClassifier\n",
    "from sklearn.model_selection import train_test_split #model untuk membagi dataset\n",
    "from sklearn.metrics import classification_report #untuk mempermudah cek evaluasi\n",
    "from sklearn.datasets import load_iris #dataset yang tersedia\n",
    "from sklearn.metrics import accuracy_score\n",
    "\n",
    "\n",
    "import re\n",
    "from sklearn.naive_bayes import MultinomialNB\n",
    "from sklearn.neural_network import MLPClassifier\n",
    "from sklearn import metrics\n",
    "from sklearn import tree\n",
    "from sklearn import svm\n",
    "from sklearn.ensemble import RandomForestClassifier"
   ]
  },
  {
   "cell_type": "code",
   "execution_count": 2,
   "metadata": {
    "colab": {},
    "colab_type": "code",
    "id": "v_24zLkmIpyN"
   },
   "outputs": [],
   "source": [
    "data = pd.read_csv(\"C:/Users/LENOVO/diabetic_data.csv\")"
   ]
  },
  {
   "cell_type": "code",
   "execution_count": 3,
   "metadata": {
    "colab": {
     "base_uri": "https://localhost:8080/",
     "height": 322
    },
    "colab_type": "code",
    "executionInfo": {
     "elapsed": 874,
     "status": "ok",
     "timestamp": 1565870178667,
     "user": {
      "displayName": "devi endrawati",
      "photoUrl": "",
      "userId": "07128640360415640249"
     },
     "user_tz": -420
    },
    "id": "NkQfFhrGGQHO",
    "outputId": "0e7647cb-c6f6-446a-e047-f79db38c5003"
   },
   "outputs": [
    {
     "data": {
      "text/html": [
       "<div>\n",
       "<style scoped>\n",
       "    .dataframe tbody tr th:only-of-type {\n",
       "        vertical-align: middle;\n",
       "    }\n",
       "\n",
       "    .dataframe tbody tr th {\n",
       "        vertical-align: top;\n",
       "    }\n",
       "\n",
       "    .dataframe thead th {\n",
       "        text-align: right;\n",
       "    }\n",
       "</style>\n",
       "<table border=\"1\" class=\"dataframe\">\n",
       "  <thead>\n",
       "    <tr style=\"text-align: right;\">\n",
       "      <th></th>\n",
       "      <th>encounter_id</th>\n",
       "      <th>patient_nbr</th>\n",
       "      <th>race</th>\n",
       "      <th>gender</th>\n",
       "      <th>age</th>\n",
       "      <th>weight</th>\n",
       "      <th>admission_type_id</th>\n",
       "      <th>discharge_disposition_id</th>\n",
       "      <th>admission_source_id</th>\n",
       "      <th>time_in_hospital</th>\n",
       "      <th>...</th>\n",
       "      <th>citoglipton</th>\n",
       "      <th>insulin</th>\n",
       "      <th>glyburide-metformin</th>\n",
       "      <th>glipizide-metformin</th>\n",
       "      <th>glimepiride-pioglitazone</th>\n",
       "      <th>metformin-rosiglitazone</th>\n",
       "      <th>metformin-pioglitazone</th>\n",
       "      <th>change</th>\n",
       "      <th>diabetesMed</th>\n",
       "      <th>readmitted</th>\n",
       "    </tr>\n",
       "  </thead>\n",
       "  <tbody>\n",
       "    <tr>\n",
       "      <th>0</th>\n",
       "      <td>2278392</td>\n",
       "      <td>8222157</td>\n",
       "      <td>Caucasian</td>\n",
       "      <td>Female</td>\n",
       "      <td>[0-10)</td>\n",
       "      <td>?</td>\n",
       "      <td>6</td>\n",
       "      <td>25</td>\n",
       "      <td>1</td>\n",
       "      <td>1</td>\n",
       "      <td>...</td>\n",
       "      <td>No</td>\n",
       "      <td>No</td>\n",
       "      <td>No</td>\n",
       "      <td>No</td>\n",
       "      <td>No</td>\n",
       "      <td>No</td>\n",
       "      <td>No</td>\n",
       "      <td>No</td>\n",
       "      <td>No</td>\n",
       "      <td>NO</td>\n",
       "    </tr>\n",
       "    <tr>\n",
       "      <th>1</th>\n",
       "      <td>149190</td>\n",
       "      <td>55629189</td>\n",
       "      <td>Caucasian</td>\n",
       "      <td>Female</td>\n",
       "      <td>[10-20)</td>\n",
       "      <td>?</td>\n",
       "      <td>1</td>\n",
       "      <td>1</td>\n",
       "      <td>7</td>\n",
       "      <td>3</td>\n",
       "      <td>...</td>\n",
       "      <td>No</td>\n",
       "      <td>Up</td>\n",
       "      <td>No</td>\n",
       "      <td>No</td>\n",
       "      <td>No</td>\n",
       "      <td>No</td>\n",
       "      <td>No</td>\n",
       "      <td>Ch</td>\n",
       "      <td>Yes</td>\n",
       "      <td>&gt;30</td>\n",
       "    </tr>\n",
       "    <tr>\n",
       "      <th>2</th>\n",
       "      <td>64410</td>\n",
       "      <td>86047875</td>\n",
       "      <td>AfricanAmerican</td>\n",
       "      <td>Female</td>\n",
       "      <td>[20-30)</td>\n",
       "      <td>?</td>\n",
       "      <td>1</td>\n",
       "      <td>1</td>\n",
       "      <td>7</td>\n",
       "      <td>2</td>\n",
       "      <td>...</td>\n",
       "      <td>No</td>\n",
       "      <td>No</td>\n",
       "      <td>No</td>\n",
       "      <td>No</td>\n",
       "      <td>No</td>\n",
       "      <td>No</td>\n",
       "      <td>No</td>\n",
       "      <td>No</td>\n",
       "      <td>Yes</td>\n",
       "      <td>NO</td>\n",
       "    </tr>\n",
       "    <tr>\n",
       "      <th>3</th>\n",
       "      <td>500364</td>\n",
       "      <td>82442376</td>\n",
       "      <td>Caucasian</td>\n",
       "      <td>Male</td>\n",
       "      <td>[30-40)</td>\n",
       "      <td>?</td>\n",
       "      <td>1</td>\n",
       "      <td>1</td>\n",
       "      <td>7</td>\n",
       "      <td>2</td>\n",
       "      <td>...</td>\n",
       "      <td>No</td>\n",
       "      <td>Up</td>\n",
       "      <td>No</td>\n",
       "      <td>No</td>\n",
       "      <td>No</td>\n",
       "      <td>No</td>\n",
       "      <td>No</td>\n",
       "      <td>Ch</td>\n",
       "      <td>Yes</td>\n",
       "      <td>NO</td>\n",
       "    </tr>\n",
       "    <tr>\n",
       "      <th>4</th>\n",
       "      <td>16680</td>\n",
       "      <td>42519267</td>\n",
       "      <td>Caucasian</td>\n",
       "      <td>Male</td>\n",
       "      <td>[40-50)</td>\n",
       "      <td>?</td>\n",
       "      <td>1</td>\n",
       "      <td>1</td>\n",
       "      <td>7</td>\n",
       "      <td>1</td>\n",
       "      <td>...</td>\n",
       "      <td>No</td>\n",
       "      <td>Steady</td>\n",
       "      <td>No</td>\n",
       "      <td>No</td>\n",
       "      <td>No</td>\n",
       "      <td>No</td>\n",
       "      <td>No</td>\n",
       "      <td>Ch</td>\n",
       "      <td>Yes</td>\n",
       "      <td>NO</td>\n",
       "    </tr>\n",
       "  </tbody>\n",
       "</table>\n",
       "<p>5 rows × 50 columns</p>\n",
       "</div>"
      ],
      "text/plain": [
       "   encounter_id  patient_nbr             race  gender      age weight  \\\n",
       "0       2278392      8222157        Caucasian  Female   [0-10)      ?   \n",
       "1        149190     55629189        Caucasian  Female  [10-20)      ?   \n",
       "2         64410     86047875  AfricanAmerican  Female  [20-30)      ?   \n",
       "3        500364     82442376        Caucasian    Male  [30-40)      ?   \n",
       "4         16680     42519267        Caucasian    Male  [40-50)      ?   \n",
       "\n",
       "   admission_type_id  discharge_disposition_id  admission_source_id  \\\n",
       "0                  6                        25                    1   \n",
       "1                  1                         1                    7   \n",
       "2                  1                         1                    7   \n",
       "3                  1                         1                    7   \n",
       "4                  1                         1                    7   \n",
       "\n",
       "   time_in_hospital  ... citoglipton insulin  glyburide-metformin  \\\n",
       "0                 1  ...          No      No                   No   \n",
       "1                 3  ...          No      Up                   No   \n",
       "2                 2  ...          No      No                   No   \n",
       "3                 2  ...          No      Up                   No   \n",
       "4                 1  ...          No  Steady                   No   \n",
       "\n",
       "   glipizide-metformin  glimepiride-pioglitazone  metformin-rosiglitazone  \\\n",
       "0                   No                        No                       No   \n",
       "1                   No                        No                       No   \n",
       "2                   No                        No                       No   \n",
       "3                   No                        No                       No   \n",
       "4                   No                        No                       No   \n",
       "\n",
       "   metformin-pioglitazone  change diabetesMed readmitted  \n",
       "0                      No      No          No         NO  \n",
       "1                      No      Ch         Yes        >30  \n",
       "2                      No      No         Yes         NO  \n",
       "3                      No      Ch         Yes         NO  \n",
       "4                      No      Ch         Yes         NO  \n",
       "\n",
       "[5 rows x 50 columns]"
      ]
     },
     "execution_count": 3,
     "metadata": {},
     "output_type": "execute_result"
    }
   ],
   "source": [
    "data.head()"
   ]
  },
  {
   "cell_type": "code",
   "execution_count": 4,
   "metadata": {
    "colab": {
     "base_uri": "https://localhost:8080/",
     "height": 35
    },
    "colab_type": "code",
    "executionInfo": {
     "elapsed": 897,
     "status": "ok",
     "timestamp": 1565870181602,
     "user": {
      "displayName": "devi endrawati",
      "photoUrl": "",
      "userId": "07128640360415640249"
     },
     "user_tz": -420
    },
    "id": "s4jCr5HLGQHW",
    "outputId": "e1810c79-182b-423d-d3c8-06f25cc928ef"
   },
   "outputs": [
    {
     "data": {
      "text/plain": [
       "(101766, 50)"
      ]
     },
     "execution_count": 4,
     "metadata": {},
     "output_type": "execute_result"
    }
   ],
   "source": [
    "data.shape"
   ]
  },
  {
   "cell_type": "code",
   "execution_count": 5,
   "metadata": {
    "colab": {
     "base_uri": "https://localhost:8080/",
     "height": 945
    },
    "colab_type": "code",
    "executionInfo": {
     "elapsed": 751,
     "status": "ok",
     "timestamp": 1565870182823,
     "user": {
      "displayName": "devi endrawati",
      "photoUrl": "",
      "userId": "07128640360415640249"
     },
     "user_tz": -420
    },
    "id": "g5UwmUtaGQHd",
    "outputId": "c99af5ec-1e44-4fa2-eaaa-4878a12f7083"
   },
   "outputs": [
    {
     "data": {
      "text/plain": [
       "encounter_id                 int64\n",
       "patient_nbr                  int64\n",
       "race                        object\n",
       "gender                      object\n",
       "age                         object\n",
       "weight                      object\n",
       "admission_type_id            int64\n",
       "discharge_disposition_id     int64\n",
       "admission_source_id          int64\n",
       "time_in_hospital             int64\n",
       "payer_code                  object\n",
       "medical_specialty           object\n",
       "num_lab_procedures           int64\n",
       "num_procedures               int64\n",
       "num_medications              int64\n",
       "number_outpatient            int64\n",
       "number_emergency             int64\n",
       "number_inpatient             int64\n",
       "diag_1                      object\n",
       "diag_2                      object\n",
       "diag_3                      object\n",
       "number_diagnoses             int64\n",
       "max_glu_serum               object\n",
       "A1Cresult                   object\n",
       "metformin                   object\n",
       "repaglinide                 object\n",
       "nateglinide                 object\n",
       "chlorpropamide              object\n",
       "glimepiride                 object\n",
       "acetohexamide               object\n",
       "glipizide                   object\n",
       "glyburide                   object\n",
       "tolbutamide                 object\n",
       "pioglitazone                object\n",
       "rosiglitazone               object\n",
       "acarbose                    object\n",
       "miglitol                    object\n",
       "troglitazone                object\n",
       "tolazamide                  object\n",
       "examide                     object\n",
       "citoglipton                 object\n",
       "insulin                     object\n",
       "glyburide-metformin         object\n",
       "glipizide-metformin         object\n",
       "glimepiride-pioglitazone    object\n",
       "metformin-rosiglitazone     object\n",
       "metformin-pioglitazone      object\n",
       "change                      object\n",
       "diabetesMed                 object\n",
       "readmitted                  object\n",
       "dtype: object"
      ]
     },
     "execution_count": 5,
     "metadata": {},
     "output_type": "execute_result"
    }
   ],
   "source": [
    "data.dtypes"
   ]
  },
  {
   "cell_type": "code",
   "execution_count": 6,
   "metadata": {
    "colab": {
     "base_uri": "https://localhost:8080/",
     "height": 1000
    },
    "colab_type": "code",
    "executionInfo": {
     "elapsed": 851,
     "status": "ok",
     "timestamp": 1565870186367,
     "user": {
      "displayName": "devi endrawati",
      "photoUrl": "",
      "userId": "07128640360415640249"
     },
     "user_tz": -420
    },
    "id": "Lp7Z25kNGQHi",
    "outputId": "eb5fbae4-29bb-430c-9d52-3cfebf99913c"
   },
   "outputs": [
    {
     "name": "stdout",
     "output_type": "stream",
     "text": [
      "<class 'pandas.core.frame.DataFrame'>\n",
      "RangeIndex: 101766 entries, 0 to 101765\n",
      "Data columns (total 50 columns):\n",
      "encounter_id                101766 non-null int64\n",
      "patient_nbr                 101766 non-null int64\n",
      "race                        101766 non-null object\n",
      "gender                      101766 non-null object\n",
      "age                         101766 non-null object\n",
      "weight                      101766 non-null object\n",
      "admission_type_id           101766 non-null int64\n",
      "discharge_disposition_id    101766 non-null int64\n",
      "admission_source_id         101766 non-null int64\n",
      "time_in_hospital            101766 non-null int64\n",
      "payer_code                  101766 non-null object\n",
      "medical_specialty           101766 non-null object\n",
      "num_lab_procedures          101766 non-null int64\n",
      "num_procedures              101766 non-null int64\n",
      "num_medications             101766 non-null int64\n",
      "number_outpatient           101766 non-null int64\n",
      "number_emergency            101766 non-null int64\n",
      "number_inpatient            101766 non-null int64\n",
      "diag_1                      101766 non-null object\n",
      "diag_2                      101766 non-null object\n",
      "diag_3                      101766 non-null object\n",
      "number_diagnoses            101766 non-null int64\n",
      "max_glu_serum               101766 non-null object\n",
      "A1Cresult                   101766 non-null object\n",
      "metformin                   101766 non-null object\n",
      "repaglinide                 101766 non-null object\n",
      "nateglinide                 101766 non-null object\n",
      "chlorpropamide              101766 non-null object\n",
      "glimepiride                 101766 non-null object\n",
      "acetohexamide               101766 non-null object\n",
      "glipizide                   101766 non-null object\n",
      "glyburide                   101766 non-null object\n",
      "tolbutamide                 101766 non-null object\n",
      "pioglitazone                101766 non-null object\n",
      "rosiglitazone               101766 non-null object\n",
      "acarbose                    101766 non-null object\n",
      "miglitol                    101766 non-null object\n",
      "troglitazone                101766 non-null object\n",
      "tolazamide                  101766 non-null object\n",
      "examide                     101766 non-null object\n",
      "citoglipton                 101766 non-null object\n",
      "insulin                     101766 non-null object\n",
      "glyburide-metformin         101766 non-null object\n",
      "glipizide-metformin         101766 non-null object\n",
      "glimepiride-pioglitazone    101766 non-null object\n",
      "metformin-rosiglitazone     101766 non-null object\n",
      "metformin-pioglitazone      101766 non-null object\n",
      "change                      101766 non-null object\n",
      "diabetesMed                 101766 non-null object\n",
      "readmitted                  101766 non-null object\n",
      "dtypes: int64(13), object(37)\n",
      "memory usage: 38.8+ MB\n"
     ]
    }
   ],
   "source": [
    "data.info()"
   ]
  },
  {
   "cell_type": "code",
   "execution_count": 7,
   "metadata": {
    "colab": {
     "base_uri": "https://localhost:8080/",
     "height": 308
    },
    "colab_type": "code",
    "executionInfo": {
     "elapsed": 821,
     "status": "ok",
     "timestamp": 1565870189130,
     "user": {
      "displayName": "devi endrawati",
      "photoUrl": "",
      "userId": "07128640360415640249"
     },
     "user_tz": -420
    },
    "id": "P5IMeRNGGQHr",
    "outputId": "b0e9c01e-df85-472a-9e22-32fdc364c4ca"
   },
   "outputs": [
    {
     "data": {
      "text/html": [
       "<div>\n",
       "<style scoped>\n",
       "    .dataframe tbody tr th:only-of-type {\n",
       "        vertical-align: middle;\n",
       "    }\n",
       "\n",
       "    .dataframe tbody tr th {\n",
       "        vertical-align: top;\n",
       "    }\n",
       "\n",
       "    .dataframe thead th {\n",
       "        text-align: right;\n",
       "    }\n",
       "</style>\n",
       "<table border=\"1\" class=\"dataframe\">\n",
       "  <thead>\n",
       "    <tr style=\"text-align: right;\">\n",
       "      <th></th>\n",
       "      <th>encounter_id</th>\n",
       "      <th>patient_nbr</th>\n",
       "      <th>admission_type_id</th>\n",
       "      <th>discharge_disposition_id</th>\n",
       "      <th>admission_source_id</th>\n",
       "      <th>time_in_hospital</th>\n",
       "      <th>num_lab_procedures</th>\n",
       "      <th>num_procedures</th>\n",
       "      <th>num_medications</th>\n",
       "      <th>number_outpatient</th>\n",
       "      <th>number_emergency</th>\n",
       "      <th>number_inpatient</th>\n",
       "      <th>number_diagnoses</th>\n",
       "    </tr>\n",
       "  </thead>\n",
       "  <tbody>\n",
       "    <tr>\n",
       "      <th>count</th>\n",
       "      <td>1.017660e+05</td>\n",
       "      <td>1.017660e+05</td>\n",
       "      <td>101766.000000</td>\n",
       "      <td>101766.000000</td>\n",
       "      <td>101766.000000</td>\n",
       "      <td>101766.000000</td>\n",
       "      <td>101766.000000</td>\n",
       "      <td>101766.000000</td>\n",
       "      <td>101766.000000</td>\n",
       "      <td>101766.000000</td>\n",
       "      <td>101766.000000</td>\n",
       "      <td>101766.000000</td>\n",
       "      <td>101766.000000</td>\n",
       "    </tr>\n",
       "    <tr>\n",
       "      <th>mean</th>\n",
       "      <td>1.652016e+08</td>\n",
       "      <td>5.433040e+07</td>\n",
       "      <td>2.024006</td>\n",
       "      <td>3.715642</td>\n",
       "      <td>5.754437</td>\n",
       "      <td>4.395987</td>\n",
       "      <td>43.095641</td>\n",
       "      <td>1.339730</td>\n",
       "      <td>16.021844</td>\n",
       "      <td>0.369357</td>\n",
       "      <td>0.197836</td>\n",
       "      <td>0.635566</td>\n",
       "      <td>7.422607</td>\n",
       "    </tr>\n",
       "    <tr>\n",
       "      <th>std</th>\n",
       "      <td>1.026403e+08</td>\n",
       "      <td>3.869636e+07</td>\n",
       "      <td>1.445403</td>\n",
       "      <td>5.280166</td>\n",
       "      <td>4.064081</td>\n",
       "      <td>2.985108</td>\n",
       "      <td>19.674362</td>\n",
       "      <td>1.705807</td>\n",
       "      <td>8.127566</td>\n",
       "      <td>1.267265</td>\n",
       "      <td>0.930472</td>\n",
       "      <td>1.262863</td>\n",
       "      <td>1.933600</td>\n",
       "    </tr>\n",
       "    <tr>\n",
       "      <th>min</th>\n",
       "      <td>1.252200e+04</td>\n",
       "      <td>1.350000e+02</td>\n",
       "      <td>1.000000</td>\n",
       "      <td>1.000000</td>\n",
       "      <td>1.000000</td>\n",
       "      <td>1.000000</td>\n",
       "      <td>1.000000</td>\n",
       "      <td>0.000000</td>\n",
       "      <td>1.000000</td>\n",
       "      <td>0.000000</td>\n",
       "      <td>0.000000</td>\n",
       "      <td>0.000000</td>\n",
       "      <td>1.000000</td>\n",
       "    </tr>\n",
       "    <tr>\n",
       "      <th>25%</th>\n",
       "      <td>8.496119e+07</td>\n",
       "      <td>2.341322e+07</td>\n",
       "      <td>1.000000</td>\n",
       "      <td>1.000000</td>\n",
       "      <td>1.000000</td>\n",
       "      <td>2.000000</td>\n",
       "      <td>31.000000</td>\n",
       "      <td>0.000000</td>\n",
       "      <td>10.000000</td>\n",
       "      <td>0.000000</td>\n",
       "      <td>0.000000</td>\n",
       "      <td>0.000000</td>\n",
       "      <td>6.000000</td>\n",
       "    </tr>\n",
       "    <tr>\n",
       "      <th>50%</th>\n",
       "      <td>1.523890e+08</td>\n",
       "      <td>4.550514e+07</td>\n",
       "      <td>1.000000</td>\n",
       "      <td>1.000000</td>\n",
       "      <td>7.000000</td>\n",
       "      <td>4.000000</td>\n",
       "      <td>44.000000</td>\n",
       "      <td>1.000000</td>\n",
       "      <td>15.000000</td>\n",
       "      <td>0.000000</td>\n",
       "      <td>0.000000</td>\n",
       "      <td>0.000000</td>\n",
       "      <td>8.000000</td>\n",
       "    </tr>\n",
       "    <tr>\n",
       "      <th>75%</th>\n",
       "      <td>2.302709e+08</td>\n",
       "      <td>8.754595e+07</td>\n",
       "      <td>3.000000</td>\n",
       "      <td>4.000000</td>\n",
       "      <td>7.000000</td>\n",
       "      <td>6.000000</td>\n",
       "      <td>57.000000</td>\n",
       "      <td>2.000000</td>\n",
       "      <td>20.000000</td>\n",
       "      <td>0.000000</td>\n",
       "      <td>0.000000</td>\n",
       "      <td>1.000000</td>\n",
       "      <td>9.000000</td>\n",
       "    </tr>\n",
       "    <tr>\n",
       "      <th>max</th>\n",
       "      <td>4.438672e+08</td>\n",
       "      <td>1.895026e+08</td>\n",
       "      <td>8.000000</td>\n",
       "      <td>28.000000</td>\n",
       "      <td>25.000000</td>\n",
       "      <td>14.000000</td>\n",
       "      <td>132.000000</td>\n",
       "      <td>6.000000</td>\n",
       "      <td>81.000000</td>\n",
       "      <td>42.000000</td>\n",
       "      <td>76.000000</td>\n",
       "      <td>21.000000</td>\n",
       "      <td>16.000000</td>\n",
       "    </tr>\n",
       "  </tbody>\n",
       "</table>\n",
       "</div>"
      ],
      "text/plain": [
       "       encounter_id   patient_nbr  admission_type_id  \\\n",
       "count  1.017660e+05  1.017660e+05      101766.000000   \n",
       "mean   1.652016e+08  5.433040e+07           2.024006   \n",
       "std    1.026403e+08  3.869636e+07           1.445403   \n",
       "min    1.252200e+04  1.350000e+02           1.000000   \n",
       "25%    8.496119e+07  2.341322e+07           1.000000   \n",
       "50%    1.523890e+08  4.550514e+07           1.000000   \n",
       "75%    2.302709e+08  8.754595e+07           3.000000   \n",
       "max    4.438672e+08  1.895026e+08           8.000000   \n",
       "\n",
       "       discharge_disposition_id  admission_source_id  time_in_hospital  \\\n",
       "count             101766.000000        101766.000000     101766.000000   \n",
       "mean                   3.715642             5.754437          4.395987   \n",
       "std                    5.280166             4.064081          2.985108   \n",
       "min                    1.000000             1.000000          1.000000   \n",
       "25%                    1.000000             1.000000          2.000000   \n",
       "50%                    1.000000             7.000000          4.000000   \n",
       "75%                    4.000000             7.000000          6.000000   \n",
       "max                   28.000000            25.000000         14.000000   \n",
       "\n",
       "       num_lab_procedures  num_procedures  num_medications  number_outpatient  \\\n",
       "count       101766.000000   101766.000000    101766.000000      101766.000000   \n",
       "mean            43.095641        1.339730        16.021844           0.369357   \n",
       "std             19.674362        1.705807         8.127566           1.267265   \n",
       "min              1.000000        0.000000         1.000000           0.000000   \n",
       "25%             31.000000        0.000000        10.000000           0.000000   \n",
       "50%             44.000000        1.000000        15.000000           0.000000   \n",
       "75%             57.000000        2.000000        20.000000           0.000000   \n",
       "max            132.000000        6.000000        81.000000          42.000000   \n",
       "\n",
       "       number_emergency  number_inpatient  number_diagnoses  \n",
       "count     101766.000000     101766.000000     101766.000000  \n",
       "mean           0.197836          0.635566          7.422607  \n",
       "std            0.930472          1.262863          1.933600  \n",
       "min            0.000000          0.000000          1.000000  \n",
       "25%            0.000000          0.000000          6.000000  \n",
       "50%            0.000000          0.000000          8.000000  \n",
       "75%            0.000000          1.000000          9.000000  \n",
       "max           76.000000         21.000000         16.000000  "
      ]
     },
     "execution_count": 7,
     "metadata": {},
     "output_type": "execute_result"
    }
   ],
   "source": [
    "data.describe()"
   ]
  },
  {
   "cell_type": "markdown",
   "metadata": {
    "colab_type": "text",
    "id": "KtpXFcu7dZJ4"
   },
   "source": [
    "# PREPROCESSING"
   ]
  },
  {
   "cell_type": "code",
   "execution_count": 8,
   "metadata": {
    "colab": {
     "base_uri": "https://localhost:8080/",
     "height": 35
    },
    "colab_type": "code",
    "executionInfo": {
     "elapsed": 626,
     "status": "ok",
     "timestamp": 1565870190789,
     "user": {
      "displayName": "devi endrawati",
      "photoUrl": "",
      "userId": "07128640360415640249"
     },
     "user_tz": -420
    },
    "id": "60egoXiiGQHw",
    "outputId": "6c92c6f1-8094-468f-967f-bd56e60668d9"
   },
   "outputs": [
    {
     "data": {
      "text/plain": [
       "(101766, 50)"
      ]
     },
     "execution_count": 8,
     "metadata": {},
     "output_type": "execute_result"
    }
   ],
   "source": [
    "data.shape"
   ]
  },
  {
   "cell_type": "code",
   "execution_count": 9,
   "metadata": {
    "colab": {},
    "colab_type": "code",
    "id": "_U69G28uGQH5"
   },
   "outputs": [],
   "source": [
    "data = data.drop(['encounter_id','patient_nbr','gender','weight','payer_code','medical_specialty','chlorpropamide','acetohexamide','glyburide','tolbutamide','pioglitazone','rosiglitazone','acarbose','miglitol','troglitazone','tolazamide','examide','citoglipton','glyburide-metformin','glipizide-metformin','glimepiride-pioglitazone','metformin-rosiglitazone','metformin-pioglitazone','nateglinide','glimepiride','admission_type_id'], axis=1)"
   ]
  },
  {
   "cell_type": "code",
   "execution_count": 10,
   "metadata": {
    "colab": {
     "base_uri": "https://localhost:8080/",
     "height": 35
    },
    "colab_type": "code",
    "executionInfo": {
     "elapsed": 931,
     "status": "ok",
     "timestamp": 1565870204767,
     "user": {
      "displayName": "devi endrawati",
      "photoUrl": "",
      "userId": "07128640360415640249"
     },
     "user_tz": -420
    },
    "id": "BeILzfZwGQIB",
    "outputId": "671a2fd3-0e67-48bf-9360-de6072b27d10"
   },
   "outputs": [
    {
     "data": {
      "text/plain": [
       "(101766, 24)"
      ]
     },
     "execution_count": 10,
     "metadata": {},
     "output_type": "execute_result"
    }
   ],
   "source": [
    "data.shape"
   ]
  },
  {
   "cell_type": "code",
   "execution_count": 11,
   "metadata": {
    "colab": {
     "base_uri": "https://localhost:8080/",
     "height": 472
    },
    "colab_type": "code",
    "executionInfo": {
     "elapsed": 810,
     "status": "ok",
     "timestamp": 1565870208533,
     "user": {
      "displayName": "devi endrawati",
      "photoUrl": "",
      "userId": "07128640360415640249"
     },
     "user_tz": -420
    },
    "id": "E4D8VtDDGQIJ",
    "outputId": "8dbbe11d-f7c0-46b1-eb59-6b60fb960784"
   },
   "outputs": [
    {
     "data": {
      "text/plain": [
       "race                        object\n",
       "age                         object\n",
       "discharge_disposition_id     int64\n",
       "admission_source_id          int64\n",
       "time_in_hospital             int64\n",
       "num_lab_procedures           int64\n",
       "num_procedures               int64\n",
       "num_medications              int64\n",
       "number_outpatient            int64\n",
       "number_emergency             int64\n",
       "number_inpatient             int64\n",
       "diag_1                      object\n",
       "diag_2                      object\n",
       "diag_3                      object\n",
       "number_diagnoses             int64\n",
       "max_glu_serum               object\n",
       "A1Cresult                   object\n",
       "metformin                   object\n",
       "repaglinide                 object\n",
       "glipizide                   object\n",
       "insulin                     object\n",
       "change                      object\n",
       "diabetesMed                 object\n",
       "readmitted                  object\n",
       "dtype: object"
      ]
     },
     "execution_count": 11,
     "metadata": {},
     "output_type": "execute_result"
    }
   ],
   "source": [
    "data.dtypes"
   ]
  },
  {
   "cell_type": "code",
   "execution_count": 12,
   "metadata": {
    "colab": {
     "base_uri": "https://localhost:8080/",
     "height": 305
    },
    "colab_type": "code",
    "executionInfo": {
     "elapsed": 976,
     "status": "ok",
     "timestamp": 1565870212241,
     "user": {
      "displayName": "devi endrawati",
      "photoUrl": "",
      "userId": "07128640360415640249"
     },
     "user_tz": -420
    },
    "id": "DNagTnGDGQIP",
    "outputId": "91b8c0f3-d2fa-4a31-df15-6830aa0e1a26"
   },
   "outputs": [
    {
     "data": {
      "text/html": [
       "<div>\n",
       "<style scoped>\n",
       "    .dataframe tbody tr th:only-of-type {\n",
       "        vertical-align: middle;\n",
       "    }\n",
       "\n",
       "    .dataframe tbody tr th {\n",
       "        vertical-align: top;\n",
       "    }\n",
       "\n",
       "    .dataframe thead th {\n",
       "        text-align: right;\n",
       "    }\n",
       "</style>\n",
       "<table border=\"1\" class=\"dataframe\">\n",
       "  <thead>\n",
       "    <tr style=\"text-align: right;\">\n",
       "      <th></th>\n",
       "      <th>race</th>\n",
       "      <th>age</th>\n",
       "      <th>discharge_disposition_id</th>\n",
       "      <th>admission_source_id</th>\n",
       "      <th>time_in_hospital</th>\n",
       "      <th>num_lab_procedures</th>\n",
       "      <th>num_procedures</th>\n",
       "      <th>num_medications</th>\n",
       "      <th>number_outpatient</th>\n",
       "      <th>number_emergency</th>\n",
       "      <th>...</th>\n",
       "      <th>number_diagnoses</th>\n",
       "      <th>max_glu_serum</th>\n",
       "      <th>A1Cresult</th>\n",
       "      <th>metformin</th>\n",
       "      <th>repaglinide</th>\n",
       "      <th>glipizide</th>\n",
       "      <th>insulin</th>\n",
       "      <th>change</th>\n",
       "      <th>diabetesMed</th>\n",
       "      <th>readmitted</th>\n",
       "    </tr>\n",
       "  </thead>\n",
       "  <tbody>\n",
       "    <tr>\n",
       "      <th>0</th>\n",
       "      <td>Caucasian</td>\n",
       "      <td>[0-10)</td>\n",
       "      <td>25</td>\n",
       "      <td>1</td>\n",
       "      <td>1</td>\n",
       "      <td>41</td>\n",
       "      <td>0</td>\n",
       "      <td>1</td>\n",
       "      <td>0</td>\n",
       "      <td>0</td>\n",
       "      <td>...</td>\n",
       "      <td>1</td>\n",
       "      <td>None</td>\n",
       "      <td>None</td>\n",
       "      <td>No</td>\n",
       "      <td>No</td>\n",
       "      <td>No</td>\n",
       "      <td>No</td>\n",
       "      <td>No</td>\n",
       "      <td>No</td>\n",
       "      <td>NO</td>\n",
       "    </tr>\n",
       "    <tr>\n",
       "      <th>1</th>\n",
       "      <td>Caucasian</td>\n",
       "      <td>[10-20)</td>\n",
       "      <td>1</td>\n",
       "      <td>7</td>\n",
       "      <td>3</td>\n",
       "      <td>59</td>\n",
       "      <td>0</td>\n",
       "      <td>18</td>\n",
       "      <td>0</td>\n",
       "      <td>0</td>\n",
       "      <td>...</td>\n",
       "      <td>9</td>\n",
       "      <td>None</td>\n",
       "      <td>None</td>\n",
       "      <td>No</td>\n",
       "      <td>No</td>\n",
       "      <td>No</td>\n",
       "      <td>Up</td>\n",
       "      <td>Ch</td>\n",
       "      <td>Yes</td>\n",
       "      <td>&gt;30</td>\n",
       "    </tr>\n",
       "    <tr>\n",
       "      <th>2</th>\n",
       "      <td>AfricanAmerican</td>\n",
       "      <td>[20-30)</td>\n",
       "      <td>1</td>\n",
       "      <td>7</td>\n",
       "      <td>2</td>\n",
       "      <td>11</td>\n",
       "      <td>5</td>\n",
       "      <td>13</td>\n",
       "      <td>2</td>\n",
       "      <td>0</td>\n",
       "      <td>...</td>\n",
       "      <td>6</td>\n",
       "      <td>None</td>\n",
       "      <td>None</td>\n",
       "      <td>No</td>\n",
       "      <td>No</td>\n",
       "      <td>Steady</td>\n",
       "      <td>No</td>\n",
       "      <td>No</td>\n",
       "      <td>Yes</td>\n",
       "      <td>NO</td>\n",
       "    </tr>\n",
       "    <tr>\n",
       "      <th>3</th>\n",
       "      <td>Caucasian</td>\n",
       "      <td>[30-40)</td>\n",
       "      <td>1</td>\n",
       "      <td>7</td>\n",
       "      <td>2</td>\n",
       "      <td>44</td>\n",
       "      <td>1</td>\n",
       "      <td>16</td>\n",
       "      <td>0</td>\n",
       "      <td>0</td>\n",
       "      <td>...</td>\n",
       "      <td>7</td>\n",
       "      <td>None</td>\n",
       "      <td>None</td>\n",
       "      <td>No</td>\n",
       "      <td>No</td>\n",
       "      <td>No</td>\n",
       "      <td>Up</td>\n",
       "      <td>Ch</td>\n",
       "      <td>Yes</td>\n",
       "      <td>NO</td>\n",
       "    </tr>\n",
       "    <tr>\n",
       "      <th>4</th>\n",
       "      <td>Caucasian</td>\n",
       "      <td>[40-50)</td>\n",
       "      <td>1</td>\n",
       "      <td>7</td>\n",
       "      <td>1</td>\n",
       "      <td>51</td>\n",
       "      <td>0</td>\n",
       "      <td>8</td>\n",
       "      <td>0</td>\n",
       "      <td>0</td>\n",
       "      <td>...</td>\n",
       "      <td>5</td>\n",
       "      <td>None</td>\n",
       "      <td>None</td>\n",
       "      <td>No</td>\n",
       "      <td>No</td>\n",
       "      <td>Steady</td>\n",
       "      <td>Steady</td>\n",
       "      <td>Ch</td>\n",
       "      <td>Yes</td>\n",
       "      <td>NO</td>\n",
       "    </tr>\n",
       "  </tbody>\n",
       "</table>\n",
       "<p>5 rows × 24 columns</p>\n",
       "</div>"
      ],
      "text/plain": [
       "              race      age  discharge_disposition_id  admission_source_id  \\\n",
       "0        Caucasian   [0-10)                        25                    1   \n",
       "1        Caucasian  [10-20)                         1                    7   \n",
       "2  AfricanAmerican  [20-30)                         1                    7   \n",
       "3        Caucasian  [30-40)                         1                    7   \n",
       "4        Caucasian  [40-50)                         1                    7   \n",
       "\n",
       "   time_in_hospital  num_lab_procedures  num_procedures  num_medications  \\\n",
       "0                 1                  41               0                1   \n",
       "1                 3                  59               0               18   \n",
       "2                 2                  11               5               13   \n",
       "3                 2                  44               1               16   \n",
       "4                 1                  51               0                8   \n",
       "\n",
       "   number_outpatient  number_emergency  ...  number_diagnoses max_glu_serum  \\\n",
       "0                  0                 0  ...                 1          None   \n",
       "1                  0                 0  ...                 9          None   \n",
       "2                  2                 0  ...                 6          None   \n",
       "3                  0                 0  ...                 7          None   \n",
       "4                  0                 0  ...                 5          None   \n",
       "\n",
       "  A1Cresult metformin  repaglinide glipizide insulin change diabetesMed  \\\n",
       "0      None        No           No        No      No     No          No   \n",
       "1      None        No           No        No      Up     Ch         Yes   \n",
       "2      None        No           No    Steady      No     No         Yes   \n",
       "3      None        No           No        No      Up     Ch         Yes   \n",
       "4      None        No           No    Steady  Steady     Ch         Yes   \n",
       "\n",
       "  readmitted  \n",
       "0         NO  \n",
       "1        >30  \n",
       "2         NO  \n",
       "3         NO  \n",
       "4         NO  \n",
       "\n",
       "[5 rows x 24 columns]"
      ]
     },
     "execution_count": 12,
     "metadata": {},
     "output_type": "execute_result"
    }
   ],
   "source": [
    "data.head()"
   ]
  },
  {
   "cell_type": "code",
   "execution_count": 13,
   "metadata": {
    "colab": {
     "base_uri": "https://localhost:8080/",
     "height": 305
    },
    "colab_type": "code",
    "executionInfo": {
     "elapsed": 804,
     "status": "ok",
     "timestamp": 1565870216052,
     "user": {
      "displayName": "devi endrawati",
      "photoUrl": "",
      "userId": "07128640360415640249"
     },
     "user_tz": -420
    },
    "id": "_sAZyDHKGQIU",
    "outputId": "8a965a12-0a47-49d5-e24b-90297e52c056"
   },
   "outputs": [
    {
     "data": {
      "text/html": [
       "<div>\n",
       "<style scoped>\n",
       "    .dataframe tbody tr th:only-of-type {\n",
       "        vertical-align: middle;\n",
       "    }\n",
       "\n",
       "    .dataframe tbody tr th {\n",
       "        vertical-align: top;\n",
       "    }\n",
       "\n",
       "    .dataframe thead th {\n",
       "        text-align: right;\n",
       "    }\n",
       "</style>\n",
       "<table border=\"1\" class=\"dataframe\">\n",
       "  <thead>\n",
       "    <tr style=\"text-align: right;\">\n",
       "      <th></th>\n",
       "      <th>race</th>\n",
       "      <th>age</th>\n",
       "      <th>discharge_disposition_id</th>\n",
       "      <th>admission_source_id</th>\n",
       "      <th>time_in_hospital</th>\n",
       "      <th>num_lab_procedures</th>\n",
       "      <th>num_procedures</th>\n",
       "      <th>num_medications</th>\n",
       "      <th>number_outpatient</th>\n",
       "      <th>number_emergency</th>\n",
       "      <th>...</th>\n",
       "      <th>number_diagnoses</th>\n",
       "      <th>max_glu_serum</th>\n",
       "      <th>A1Cresult</th>\n",
       "      <th>metformin</th>\n",
       "      <th>repaglinide</th>\n",
       "      <th>glipizide</th>\n",
       "      <th>insulin</th>\n",
       "      <th>change</th>\n",
       "      <th>diabetesMed</th>\n",
       "      <th>readmitted</th>\n",
       "    </tr>\n",
       "  </thead>\n",
       "  <tbody>\n",
       "    <tr>\n",
       "      <th>0</th>\n",
       "      <td>3</td>\n",
       "      <td>[0-10)</td>\n",
       "      <td>25</td>\n",
       "      <td>1</td>\n",
       "      <td>1</td>\n",
       "      <td>41</td>\n",
       "      <td>0</td>\n",
       "      <td>1</td>\n",
       "      <td>0</td>\n",
       "      <td>0</td>\n",
       "      <td>...</td>\n",
       "      <td>1</td>\n",
       "      <td>None</td>\n",
       "      <td>None</td>\n",
       "      <td>No</td>\n",
       "      <td>No</td>\n",
       "      <td>No</td>\n",
       "      <td>No</td>\n",
       "      <td>No</td>\n",
       "      <td>No</td>\n",
       "      <td>NO</td>\n",
       "    </tr>\n",
       "    <tr>\n",
       "      <th>1</th>\n",
       "      <td>3</td>\n",
       "      <td>[10-20)</td>\n",
       "      <td>1</td>\n",
       "      <td>7</td>\n",
       "      <td>3</td>\n",
       "      <td>59</td>\n",
       "      <td>0</td>\n",
       "      <td>18</td>\n",
       "      <td>0</td>\n",
       "      <td>0</td>\n",
       "      <td>...</td>\n",
       "      <td>9</td>\n",
       "      <td>None</td>\n",
       "      <td>None</td>\n",
       "      <td>No</td>\n",
       "      <td>No</td>\n",
       "      <td>No</td>\n",
       "      <td>Up</td>\n",
       "      <td>Ch</td>\n",
       "      <td>Yes</td>\n",
       "      <td>&gt;30</td>\n",
       "    </tr>\n",
       "    <tr>\n",
       "      <th>2</th>\n",
       "      <td>1</td>\n",
       "      <td>[20-30)</td>\n",
       "      <td>1</td>\n",
       "      <td>7</td>\n",
       "      <td>2</td>\n",
       "      <td>11</td>\n",
       "      <td>5</td>\n",
       "      <td>13</td>\n",
       "      <td>2</td>\n",
       "      <td>0</td>\n",
       "      <td>...</td>\n",
       "      <td>6</td>\n",
       "      <td>None</td>\n",
       "      <td>None</td>\n",
       "      <td>No</td>\n",
       "      <td>No</td>\n",
       "      <td>Steady</td>\n",
       "      <td>No</td>\n",
       "      <td>No</td>\n",
       "      <td>Yes</td>\n",
       "      <td>NO</td>\n",
       "    </tr>\n",
       "    <tr>\n",
       "      <th>3</th>\n",
       "      <td>3</td>\n",
       "      <td>[30-40)</td>\n",
       "      <td>1</td>\n",
       "      <td>7</td>\n",
       "      <td>2</td>\n",
       "      <td>44</td>\n",
       "      <td>1</td>\n",
       "      <td>16</td>\n",
       "      <td>0</td>\n",
       "      <td>0</td>\n",
       "      <td>...</td>\n",
       "      <td>7</td>\n",
       "      <td>None</td>\n",
       "      <td>None</td>\n",
       "      <td>No</td>\n",
       "      <td>No</td>\n",
       "      <td>No</td>\n",
       "      <td>Up</td>\n",
       "      <td>Ch</td>\n",
       "      <td>Yes</td>\n",
       "      <td>NO</td>\n",
       "    </tr>\n",
       "    <tr>\n",
       "      <th>4</th>\n",
       "      <td>3</td>\n",
       "      <td>[40-50)</td>\n",
       "      <td>1</td>\n",
       "      <td>7</td>\n",
       "      <td>1</td>\n",
       "      <td>51</td>\n",
       "      <td>0</td>\n",
       "      <td>8</td>\n",
       "      <td>0</td>\n",
       "      <td>0</td>\n",
       "      <td>...</td>\n",
       "      <td>5</td>\n",
       "      <td>None</td>\n",
       "      <td>None</td>\n",
       "      <td>No</td>\n",
       "      <td>No</td>\n",
       "      <td>Steady</td>\n",
       "      <td>Steady</td>\n",
       "      <td>Ch</td>\n",
       "      <td>Yes</td>\n",
       "      <td>NO</td>\n",
       "    </tr>\n",
       "  </tbody>\n",
       "</table>\n",
       "<p>5 rows × 24 columns</p>\n",
       "</div>"
      ],
      "text/plain": [
       "   race      age  discharge_disposition_id  admission_source_id  \\\n",
       "0     3   [0-10)                        25                    1   \n",
       "1     3  [10-20)                         1                    7   \n",
       "2     1  [20-30)                         1                    7   \n",
       "3     3  [30-40)                         1                    7   \n",
       "4     3  [40-50)                         1                    7   \n",
       "\n",
       "   time_in_hospital  num_lab_procedures  num_procedures  num_medications  \\\n",
       "0                 1                  41               0                1   \n",
       "1                 3                  59               0               18   \n",
       "2                 2                  11               5               13   \n",
       "3                 2                  44               1               16   \n",
       "4                 1                  51               0                8   \n",
       "\n",
       "   number_outpatient  number_emergency  ...  number_diagnoses max_glu_serum  \\\n",
       "0                  0                 0  ...                 1          None   \n",
       "1                  0                 0  ...                 9          None   \n",
       "2                  2                 0  ...                 6          None   \n",
       "3                  0                 0  ...                 7          None   \n",
       "4                  0                 0  ...                 5          None   \n",
       "\n",
       "  A1Cresult metformin  repaglinide glipizide insulin change diabetesMed  \\\n",
       "0      None        No           No        No      No     No          No   \n",
       "1      None        No           No        No      Up     Ch         Yes   \n",
       "2      None        No           No    Steady      No     No         Yes   \n",
       "3      None        No           No        No      Up     Ch         Yes   \n",
       "4      None        No           No    Steady  Steady     Ch         Yes   \n",
       "\n",
       "  readmitted  \n",
       "0         NO  \n",
       "1        >30  \n",
       "2         NO  \n",
       "3         NO  \n",
       "4         NO  \n",
       "\n",
       "[5 rows x 24 columns]"
      ]
     },
     "execution_count": 13,
     "metadata": {},
     "output_type": "execute_result"
    }
   ],
   "source": [
    "le = preprocessing.LabelEncoder()\n",
    "le.fit(data['race'])\n",
    "data['race'] = le.transform(data['race'])\n",
    "data['race'] = data['race'].astype('int64')\n",
    "data.head()"
   ]
  },
  {
   "cell_type": "code",
   "execution_count": 14,
   "metadata": {
    "colab": {
     "base_uri": "https://localhost:8080/",
     "height": 218
    },
    "colab_type": "code",
    "executionInfo": {
     "elapsed": 899,
     "status": "ok",
     "timestamp": 1565870223740,
     "user": {
      "displayName": "devi endrawati",
      "photoUrl": "",
      "userId": "07128640360415640249"
     },
     "user_tz": -420
    },
    "id": "8jKe3iapGQId",
    "outputId": "79382c11-d6c0-46dc-8d02-7086af5b6e64"
   },
   "outputs": [
    {
     "data": {
      "text/html": [
       "<div>\n",
       "<style scoped>\n",
       "    .dataframe tbody tr th:only-of-type {\n",
       "        vertical-align: middle;\n",
       "    }\n",
       "\n",
       "    .dataframe tbody tr th {\n",
       "        vertical-align: top;\n",
       "    }\n",
       "\n",
       "    .dataframe thead th {\n",
       "        text-align: right;\n",
       "    }\n",
       "</style>\n",
       "<table border=\"1\" class=\"dataframe\">\n",
       "  <thead>\n",
       "    <tr style=\"text-align: right;\">\n",
       "      <th></th>\n",
       "      <th>race</th>\n",
       "      <th>age</th>\n",
       "      <th>discharge_disposition_id</th>\n",
       "      <th>admission_source_id</th>\n",
       "      <th>time_in_hospital</th>\n",
       "      <th>num_lab_procedures</th>\n",
       "      <th>num_procedures</th>\n",
       "      <th>num_medications</th>\n",
       "      <th>number_outpatient</th>\n",
       "      <th>number_emergency</th>\n",
       "      <th>...</th>\n",
       "      <th>number_diagnoses</th>\n",
       "      <th>max_glu_serum</th>\n",
       "      <th>A1Cresult</th>\n",
       "      <th>metformin</th>\n",
       "      <th>repaglinide</th>\n",
       "      <th>glipizide</th>\n",
       "      <th>insulin</th>\n",
       "      <th>change</th>\n",
       "      <th>diabetesMed</th>\n",
       "      <th>readmitted</th>\n",
       "    </tr>\n",
       "  </thead>\n",
       "  <tbody>\n",
       "    <tr>\n",
       "      <th>0</th>\n",
       "      <td>3</td>\n",
       "      <td>5</td>\n",
       "      <td>25</td>\n",
       "      <td>1</td>\n",
       "      <td>1</td>\n",
       "      <td>41</td>\n",
       "      <td>0</td>\n",
       "      <td>1</td>\n",
       "      <td>0</td>\n",
       "      <td>0</td>\n",
       "      <td>...</td>\n",
       "      <td>1</td>\n",
       "      <td>None</td>\n",
       "      <td>None</td>\n",
       "      <td>No</td>\n",
       "      <td>No</td>\n",
       "      <td>No</td>\n",
       "      <td>No</td>\n",
       "      <td>No</td>\n",
       "      <td>No</td>\n",
       "      <td>NO</td>\n",
       "    </tr>\n",
       "    <tr>\n",
       "      <th>1</th>\n",
       "      <td>3</td>\n",
       "      <td>15</td>\n",
       "      <td>1</td>\n",
       "      <td>7</td>\n",
       "      <td>3</td>\n",
       "      <td>59</td>\n",
       "      <td>0</td>\n",
       "      <td>18</td>\n",
       "      <td>0</td>\n",
       "      <td>0</td>\n",
       "      <td>...</td>\n",
       "      <td>9</td>\n",
       "      <td>None</td>\n",
       "      <td>None</td>\n",
       "      <td>No</td>\n",
       "      <td>No</td>\n",
       "      <td>No</td>\n",
       "      <td>Up</td>\n",
       "      <td>Ch</td>\n",
       "      <td>Yes</td>\n",
       "      <td>&gt;30</td>\n",
       "    </tr>\n",
       "    <tr>\n",
       "      <th>2</th>\n",
       "      <td>1</td>\n",
       "      <td>25</td>\n",
       "      <td>1</td>\n",
       "      <td>7</td>\n",
       "      <td>2</td>\n",
       "      <td>11</td>\n",
       "      <td>5</td>\n",
       "      <td>13</td>\n",
       "      <td>2</td>\n",
       "      <td>0</td>\n",
       "      <td>...</td>\n",
       "      <td>6</td>\n",
       "      <td>None</td>\n",
       "      <td>None</td>\n",
       "      <td>No</td>\n",
       "      <td>No</td>\n",
       "      <td>Steady</td>\n",
       "      <td>No</td>\n",
       "      <td>No</td>\n",
       "      <td>Yes</td>\n",
       "      <td>NO</td>\n",
       "    </tr>\n",
       "    <tr>\n",
       "      <th>3</th>\n",
       "      <td>3</td>\n",
       "      <td>35</td>\n",
       "      <td>1</td>\n",
       "      <td>7</td>\n",
       "      <td>2</td>\n",
       "      <td>44</td>\n",
       "      <td>1</td>\n",
       "      <td>16</td>\n",
       "      <td>0</td>\n",
       "      <td>0</td>\n",
       "      <td>...</td>\n",
       "      <td>7</td>\n",
       "      <td>None</td>\n",
       "      <td>None</td>\n",
       "      <td>No</td>\n",
       "      <td>No</td>\n",
       "      <td>No</td>\n",
       "      <td>Up</td>\n",
       "      <td>Ch</td>\n",
       "      <td>Yes</td>\n",
       "      <td>NO</td>\n",
       "    </tr>\n",
       "    <tr>\n",
       "      <th>4</th>\n",
       "      <td>3</td>\n",
       "      <td>45</td>\n",
       "      <td>1</td>\n",
       "      <td>7</td>\n",
       "      <td>1</td>\n",
       "      <td>51</td>\n",
       "      <td>0</td>\n",
       "      <td>8</td>\n",
       "      <td>0</td>\n",
       "      <td>0</td>\n",
       "      <td>...</td>\n",
       "      <td>5</td>\n",
       "      <td>None</td>\n",
       "      <td>None</td>\n",
       "      <td>No</td>\n",
       "      <td>No</td>\n",
       "      <td>Steady</td>\n",
       "      <td>Steady</td>\n",
       "      <td>Ch</td>\n",
       "      <td>Yes</td>\n",
       "      <td>NO</td>\n",
       "    </tr>\n",
       "  </tbody>\n",
       "</table>\n",
       "<p>5 rows × 24 columns</p>\n",
       "</div>"
      ],
      "text/plain": [
       "   race  age  discharge_disposition_id  admission_source_id  time_in_hospital  \\\n",
       "0     3    5                        25                    1                 1   \n",
       "1     3   15                         1                    7                 3   \n",
       "2     1   25                         1                    7                 2   \n",
       "3     3   35                         1                    7                 2   \n",
       "4     3   45                         1                    7                 1   \n",
       "\n",
       "   num_lab_procedures  num_procedures  num_medications  number_outpatient  \\\n",
       "0                  41               0                1                  0   \n",
       "1                  59               0               18                  0   \n",
       "2                  11               5               13                  2   \n",
       "3                  44               1               16                  0   \n",
       "4                  51               0                8                  0   \n",
       "\n",
       "   number_emergency  ...  number_diagnoses max_glu_serum A1Cresult metformin  \\\n",
       "0                 0  ...                 1          None      None        No   \n",
       "1                 0  ...                 9          None      None        No   \n",
       "2                 0  ...                 6          None      None        No   \n",
       "3                 0  ...                 7          None      None        No   \n",
       "4                 0  ...                 5          None      None        No   \n",
       "\n",
       "   repaglinide glipizide insulin change diabetesMed readmitted  \n",
       "0           No        No      No     No          No         NO  \n",
       "1           No        No      Up     Ch         Yes        >30  \n",
       "2           No    Steady      No     No         Yes         NO  \n",
       "3           No        No      Up     Ch         Yes         NO  \n",
       "4           No    Steady  Steady     Ch         Yes         NO  \n",
       "\n",
       "[5 rows x 24 columns]"
      ]
     },
     "execution_count": 14,
     "metadata": {},
     "output_type": "execute_result"
    }
   ],
   "source": [
    "age_dict = {'[0-10)':5, '[10-20)':15, '[20-30)':25, '[30-40)':35, '[40-50)':45, '[50-60)':55, '[60-70)':65, '[70-80)':75, '[80-90)':85, '[90-100)':95}\n",
    "data['age'] = data.age.map(age_dict)\n",
    "data['age'] = data['age'].astype('int64')\n",
    "data.head()"
   ]
  },
  {
   "cell_type": "code",
   "execution_count": 15,
   "metadata": {
    "colab": {
     "base_uri": "https://localhost:8080/",
     "height": 35
    },
    "colab_type": "code",
    "executionInfo": {
     "elapsed": 859,
     "status": "ok",
     "timestamp": 1565870228508,
     "user": {
      "displayName": "devi endrawati",
      "photoUrl": "",
      "userId": "07128640360415640249"
     },
     "user_tz": -420
    },
    "id": "nSc1MxvzGQIj",
    "outputId": "a17590a1-6e80-409f-baae-2b587aa3fb3b"
   },
   "outputs": [
    {
     "data": {
      "text/plain": [
       "(101766, 24)"
      ]
     },
     "execution_count": 15,
     "metadata": {},
     "output_type": "execute_result"
    }
   ],
   "source": [
    "data.shape"
   ]
  },
  {
   "cell_type": "code",
   "execution_count": 16,
   "metadata": {
    "colab": {},
    "colab_type": "code",
    "id": "9_1VJuGEGQIs"
   },
   "outputs": [],
   "source": [
    "data = data.drop(data[(data.diag_3 == '?') |(data.diag_2 == '?') | (data.diag_1 == '?')].index)"
   ]
  },
  {
   "cell_type": "code",
   "execution_count": 17,
   "metadata": {
    "colab": {
     "base_uri": "https://localhost:8080/",
     "height": 35
    },
    "colab_type": "code",
    "executionInfo": {
     "elapsed": 951,
     "status": "ok",
     "timestamp": 1565870239833,
     "user": {
      "displayName": "devi endrawati",
      "photoUrl": "",
      "userId": "07128640360415640249"
     },
     "user_tz": -420
    },
    "id": "6a3PJtNnGQIw",
    "outputId": "25ea5678-1c27-49e5-bdc5-54010b22a394"
   },
   "outputs": [
    {
     "data": {
      "text/plain": [
       "(100244, 24)"
      ]
     },
     "execution_count": 17,
     "metadata": {},
     "output_type": "execute_result"
    }
   ],
   "source": [
    "data.shape"
   ]
  },
  {
   "cell_type": "code",
   "execution_count": 18,
   "metadata": {
    "colab": {},
    "colab_type": "code",
    "id": "L9ILklXhGQI7"
   },
   "outputs": [],
   "source": [
    "data['diag_3'] = data['diag_3'].map(lambda x: x.lstrip('E').rstrip('E'))\n",
    "data['diag_2'] = data['diag_2'].map(lambda x: x.lstrip('E').rstrip('E'))\n",
    "data['diag_1'] = data['diag_1'].map(lambda x: x.lstrip('E').rstrip('E'))\n",
    "data['diag_3'] = data['diag_3'].map(lambda x: x.lstrip('V').rstrip('V'))\n",
    "data['diag_2'] = data['diag_2'].map(lambda x: x.lstrip('V').rstrip('V'))\n",
    "data['diag_1'] = data['diag_1'].map(lambda x: x.lstrip('V').rstrip('V'))"
   ]
  },
  {
   "cell_type": "code",
   "execution_count": 19,
   "metadata": {
    "colab": {},
    "colab_type": "code",
    "id": "7sxCpee9GQJA"
   },
   "outputs": [],
   "source": [
    "data['diag_1'] = data['diag_1'].astype('float64')\n",
    "data['diag_2'] = data['diag_2'].astype('float64')\n",
    "data['diag_3'] = data['diag_3'].astype('float64')"
   ]
  },
  {
   "cell_type": "code",
   "execution_count": 20,
   "metadata": {
    "colab": {
     "base_uri": "https://localhost:8080/",
     "height": 35
    },
    "colab_type": "code",
    "executionInfo": {
     "elapsed": 783,
     "status": "ok",
     "timestamp": 1565870249536,
     "user": {
      "displayName": "devi endrawati",
      "photoUrl": "",
      "userId": "07128640360415640249"
     },
     "user_tz": -420
    },
    "id": "kqkdX6VNGQJS",
    "outputId": "d3b04bee-af91-487d-d688-75bf0813df84"
   },
   "outputs": [
    {
     "data": {
      "text/plain": [
       "(100244, 24)"
      ]
     },
     "execution_count": 20,
     "metadata": {},
     "output_type": "execute_result"
    }
   ],
   "source": [
    "data.shape"
   ]
  },
  {
   "cell_type": "code",
   "execution_count": 21,
   "metadata": {
    "colab": {},
    "colab_type": "code",
    "id": "QCmunxbRGQJc"
   },
   "outputs": [],
   "source": [
    "data = data.drop(data[(data.diag_3 < 100) &(data.diag_2 < 100) & (data.diag_1 < 100)].index)"
   ]
  },
  {
   "cell_type": "code",
   "execution_count": 22,
   "metadata": {
    "colab": {
     "base_uri": "https://localhost:8080/",
     "height": 35
    },
    "colab_type": "code",
    "executionInfo": {
     "elapsed": 774,
     "status": "ok",
     "timestamp": 1565870258137,
     "user": {
      "displayName": "devi endrawati",
      "photoUrl": "",
      "userId": "07128640360415640249"
     },
     "user_tz": -420
    },
    "id": "hOEcGGrNGQJi",
    "outputId": "7fbe97fc-220f-42d3-d7a1-7b1f09103f9a"
   },
   "outputs": [
    {
     "data": {
      "text/plain": [
       "(100192, 24)"
      ]
     },
     "execution_count": 22,
     "metadata": {},
     "output_type": "execute_result"
    }
   ],
   "source": [
    "data.shape"
   ]
  },
  {
   "cell_type": "code",
   "execution_count": 23,
   "metadata": {
    "colab": {},
    "colab_type": "code",
    "id": "6kxUBfvBGQJs"
   },
   "outputs": [],
   "source": [
    "data = data.drop(data[(data.diag_3 < 100) |(data.diag_2 < 100) | (data.diag_1 < 100)].index)"
   ]
  },
  {
   "cell_type": "code",
   "execution_count": 24,
   "metadata": {
    "colab": {
     "base_uri": "https://localhost:8080/",
     "height": 35
    },
    "colab_type": "code",
    "executionInfo": {
     "elapsed": 570,
     "status": "ok",
     "timestamp": 1565870276925,
     "user": {
      "displayName": "devi endrawati",
      "photoUrl": "",
      "userId": "07128640360415640249"
     },
     "user_tz": -420
    },
    "id": "eJ3Me3GMGQOx",
    "outputId": "a2eb2b9e-6e30-42c9-f828-e9fb118eb458"
   },
   "outputs": [
    {
     "data": {
      "text/plain": [
       "(88289, 24)"
      ]
     },
     "execution_count": 24,
     "metadata": {},
     "output_type": "execute_result"
    }
   ],
   "source": [
    "data.shape"
   ]
  },
  {
   "cell_type": "code",
   "execution_count": 25,
   "metadata": {
    "colab": {
     "base_uri": "https://localhost:8080/",
     "height": 472
    },
    "colab_type": "code",
    "executionInfo": {
     "elapsed": 582,
     "status": "ok",
     "timestamp": 1565870278086,
     "user": {
      "displayName": "devi endrawati",
      "photoUrl": "",
      "userId": "07128640360415640249"
     },
     "user_tz": -420
    },
    "id": "btZpIQjNGQO_",
    "outputId": "a54a5caf-6b0e-4cef-84f2-c2e6e134ce77"
   },
   "outputs": [
    {
     "data": {
      "text/plain": [
       "race                          int64\n",
       "age                           int64\n",
       "discharge_disposition_id      int64\n",
       "admission_source_id           int64\n",
       "time_in_hospital              int64\n",
       "num_lab_procedures            int64\n",
       "num_procedures                int64\n",
       "num_medications               int64\n",
       "number_outpatient             int64\n",
       "number_emergency              int64\n",
       "number_inpatient              int64\n",
       "diag_1                      float64\n",
       "diag_2                      float64\n",
       "diag_3                      float64\n",
       "number_diagnoses              int64\n",
       "max_glu_serum                object\n",
       "A1Cresult                    object\n",
       "metformin                    object\n",
       "repaglinide                  object\n",
       "glipizide                    object\n",
       "insulin                      object\n",
       "change                       object\n",
       "diabetesMed                  object\n",
       "readmitted                   object\n",
       "dtype: object"
      ]
     },
     "execution_count": 25,
     "metadata": {},
     "output_type": "execute_result"
    }
   ],
   "source": [
    "data.dtypes"
   ]
  },
  {
   "cell_type": "code",
   "execution_count": 26,
   "metadata": {
    "colab": {},
    "colab_type": "code",
    "id": "4tYizvrRGQPI"
   },
   "outputs": [],
   "source": [
    "data['A1Cresult'] = data['A1Cresult'].replace('>7', 1)\n",
    "data['A1Cresult'] = data['A1Cresult'].replace('>8', 1)\n",
    "data['A1Cresult'] = data['A1Cresult'].replace('Norm', 0)\n",
    "data['A1Cresult'] = data['A1Cresult'].replace('None', -99)"
   ]
  },
  {
   "cell_type": "code",
   "execution_count": 27,
   "metadata": {
    "colab": {
     "base_uri": "https://localhost:8080/",
     "height": 90
    },
    "colab_type": "code",
    "executionInfo": {
     "elapsed": 786,
     "status": "ok",
     "timestamp": 1565870287897,
     "user": {
      "displayName": "devi endrawati",
      "photoUrl": "",
      "userId": "07128640360415640249"
     },
     "user_tz": -420
    },
    "id": "iyPk4qjOGQPO",
    "outputId": "73cd8fd9-136d-4b46-9e44-a80bc3ec891a"
   },
   "outputs": [
    {
     "data": {
      "text/plain": [
       "-99    73356\n",
       " 1     10547\n",
       " 0      4386\n",
       "Name: A1Cresult, dtype: int64"
      ]
     },
     "execution_count": 27,
     "metadata": {},
     "output_type": "execute_result"
    }
   ],
   "source": [
    "data.A1Cresult.value_counts()"
   ]
  },
  {
   "cell_type": "code",
   "execution_count": 28,
   "metadata": {
    "colab": {},
    "colab_type": "code",
    "id": "tVy7-zOeGQPT"
   },
   "outputs": [],
   "source": [
    "data['max_glu_serum'] = data['max_glu_serum'].replace('>200', 1)\n",
    "data['max_glu_serum'] = data['max_glu_serum'].replace('>300', 1)\n",
    "data['max_glu_serum'] = data['max_glu_serum'].replace('Norm', 0)\n",
    "data['max_glu_serum'] = data['max_glu_serum'].replace('None', -99)"
   ]
  },
  {
   "cell_type": "code",
   "execution_count": 29,
   "metadata": {
    "colab": {
     "base_uri": "https://localhost:8080/",
     "height": 90
    },
    "colab_type": "code",
    "executionInfo": {
     "elapsed": 935,
     "status": "ok",
     "timestamp": 1565870295861,
     "user": {
      "displayName": "devi endrawati",
      "photoUrl": "",
      "userId": "07128640360415640249"
     },
     "user_tz": -420
    },
    "id": "21flGhW1GQPZ",
    "outputId": "894f4e3e-4aa0-4d8a-f706-9dc8a3ef02c0"
   },
   "outputs": [
    {
     "data": {
      "text/plain": [
       "-99    83574\n",
       " 1      2416\n",
       " 0      2299\n",
       "Name: max_glu_serum, dtype: int64"
      ]
     },
     "execution_count": 29,
     "metadata": {},
     "output_type": "execute_result"
    }
   ],
   "source": [
    "data.max_glu_serum.value_counts()"
   ]
  },
  {
   "cell_type": "code",
   "execution_count": 30,
   "metadata": {
    "colab": {},
    "colab_type": "code",
    "id": "uUsahqzxGQPm"
   },
   "outputs": [],
   "source": [
    "for col in data:\n",
    "    data[col] = data[col].replace('No', 0)\n",
    "    data[col] = data[col].replace('Steady', 1)\n",
    "    data[col] = data[col].replace('Up', 1)\n",
    "    data[col] = data[col].replace('Down', 1)"
   ]
  },
  {
   "cell_type": "code",
   "execution_count": 31,
   "metadata": {
    "colab": {
     "base_uri": "https://localhost:8080/",
     "height": 768
    },
    "colab_type": "code",
    "executionInfo": {
     "elapsed": 1014,
     "status": "ok",
     "timestamp": 1565870299994,
     "user": {
      "displayName": "devi endrawati",
      "photoUrl": "",
      "userId": "07128640360415640249"
     },
     "user_tz": -420
    },
    "id": "5q92go4bGQPt",
    "outputId": "3b8c7864-cfcc-4b2e-919b-5baf38debdc4"
   },
   "outputs": [
    {
     "data": {
      "text/html": [
       "<div>\n",
       "<style scoped>\n",
       "    .dataframe tbody tr th:only-of-type {\n",
       "        vertical-align: middle;\n",
       "    }\n",
       "\n",
       "    .dataframe tbody tr th {\n",
       "        vertical-align: top;\n",
       "    }\n",
       "\n",
       "    .dataframe thead th {\n",
       "        text-align: right;\n",
       "    }\n",
       "</style>\n",
       "<table border=\"1\" class=\"dataframe\">\n",
       "  <thead>\n",
       "    <tr style=\"text-align: right;\">\n",
       "      <th></th>\n",
       "      <th>1</th>\n",
       "      <th>4</th>\n",
       "      <th>5</th>\n",
       "      <th>7</th>\n",
       "      <th>9</th>\n",
       "    </tr>\n",
       "  </thead>\n",
       "  <tbody>\n",
       "    <tr>\n",
       "      <th>race</th>\n",
       "      <td>3</td>\n",
       "      <td>3</td>\n",
       "      <td>3</td>\n",
       "      <td>3</td>\n",
       "      <td>3</td>\n",
       "    </tr>\n",
       "    <tr>\n",
       "      <th>age</th>\n",
       "      <td>15</td>\n",
       "      <td>45</td>\n",
       "      <td>55</td>\n",
       "      <td>75</td>\n",
       "      <td>95</td>\n",
       "    </tr>\n",
       "    <tr>\n",
       "      <th>discharge_disposition_id</th>\n",
       "      <td>1</td>\n",
       "      <td>1</td>\n",
       "      <td>1</td>\n",
       "      <td>1</td>\n",
       "      <td>3</td>\n",
       "    </tr>\n",
       "    <tr>\n",
       "      <th>admission_source_id</th>\n",
       "      <td>7</td>\n",
       "      <td>7</td>\n",
       "      <td>2</td>\n",
       "      <td>7</td>\n",
       "      <td>4</td>\n",
       "    </tr>\n",
       "    <tr>\n",
       "      <th>time_in_hospital</th>\n",
       "      <td>3</td>\n",
       "      <td>1</td>\n",
       "      <td>3</td>\n",
       "      <td>5</td>\n",
       "      <td>12</td>\n",
       "    </tr>\n",
       "    <tr>\n",
       "      <th>num_lab_procedures</th>\n",
       "      <td>59</td>\n",
       "      <td>51</td>\n",
       "      <td>31</td>\n",
       "      <td>73</td>\n",
       "      <td>33</td>\n",
       "    </tr>\n",
       "    <tr>\n",
       "      <th>num_procedures</th>\n",
       "      <td>0</td>\n",
       "      <td>0</td>\n",
       "      <td>6</td>\n",
       "      <td>0</td>\n",
       "      <td>3</td>\n",
       "    </tr>\n",
       "    <tr>\n",
       "      <th>num_medications</th>\n",
       "      <td>18</td>\n",
       "      <td>8</td>\n",
       "      <td>16</td>\n",
       "      <td>12</td>\n",
       "      <td>18</td>\n",
       "    </tr>\n",
       "    <tr>\n",
       "      <th>number_outpatient</th>\n",
       "      <td>0</td>\n",
       "      <td>0</td>\n",
       "      <td>0</td>\n",
       "      <td>0</td>\n",
       "      <td>0</td>\n",
       "    </tr>\n",
       "    <tr>\n",
       "      <th>number_emergency</th>\n",
       "      <td>0</td>\n",
       "      <td>0</td>\n",
       "      <td>0</td>\n",
       "      <td>0</td>\n",
       "      <td>0</td>\n",
       "    </tr>\n",
       "    <tr>\n",
       "      <th>number_inpatient</th>\n",
       "      <td>0</td>\n",
       "      <td>0</td>\n",
       "      <td>0</td>\n",
       "      <td>0</td>\n",
       "      <td>0</td>\n",
       "    </tr>\n",
       "    <tr>\n",
       "      <th>diag_1</th>\n",
       "      <td>276</td>\n",
       "      <td>197</td>\n",
       "      <td>414</td>\n",
       "      <td>428</td>\n",
       "      <td>434</td>\n",
       "    </tr>\n",
       "    <tr>\n",
       "      <th>diag_2</th>\n",
       "      <td>250.01</td>\n",
       "      <td>157</td>\n",
       "      <td>411</td>\n",
       "      <td>492</td>\n",
       "      <td>198</td>\n",
       "    </tr>\n",
       "    <tr>\n",
       "      <th>diag_3</th>\n",
       "      <td>255</td>\n",
       "      <td>250</td>\n",
       "      <td>250</td>\n",
       "      <td>250</td>\n",
       "      <td>486</td>\n",
       "    </tr>\n",
       "    <tr>\n",
       "      <th>number_diagnoses</th>\n",
       "      <td>9</td>\n",
       "      <td>5</td>\n",
       "      <td>9</td>\n",
       "      <td>8</td>\n",
       "      <td>8</td>\n",
       "    </tr>\n",
       "    <tr>\n",
       "      <th>max_glu_serum</th>\n",
       "      <td>-99</td>\n",
       "      <td>-99</td>\n",
       "      <td>-99</td>\n",
       "      <td>-99</td>\n",
       "      <td>-99</td>\n",
       "    </tr>\n",
       "    <tr>\n",
       "      <th>A1Cresult</th>\n",
       "      <td>-99</td>\n",
       "      <td>-99</td>\n",
       "      <td>-99</td>\n",
       "      <td>-99</td>\n",
       "      <td>-99</td>\n",
       "    </tr>\n",
       "    <tr>\n",
       "      <th>metformin</th>\n",
       "      <td>0</td>\n",
       "      <td>0</td>\n",
       "      <td>0</td>\n",
       "      <td>0</td>\n",
       "      <td>0</td>\n",
       "    </tr>\n",
       "    <tr>\n",
       "      <th>repaglinide</th>\n",
       "      <td>0</td>\n",
       "      <td>0</td>\n",
       "      <td>0</td>\n",
       "      <td>0</td>\n",
       "      <td>0</td>\n",
       "    </tr>\n",
       "    <tr>\n",
       "      <th>glipizide</th>\n",
       "      <td>0</td>\n",
       "      <td>1</td>\n",
       "      <td>0</td>\n",
       "      <td>0</td>\n",
       "      <td>0</td>\n",
       "    </tr>\n",
       "    <tr>\n",
       "      <th>insulin</th>\n",
       "      <td>1</td>\n",
       "      <td>1</td>\n",
       "      <td>1</td>\n",
       "      <td>0</td>\n",
       "      <td>1</td>\n",
       "    </tr>\n",
       "    <tr>\n",
       "      <th>change</th>\n",
       "      <td>Ch</td>\n",
       "      <td>Ch</td>\n",
       "      <td>0</td>\n",
       "      <td>0</td>\n",
       "      <td>Ch</td>\n",
       "    </tr>\n",
       "    <tr>\n",
       "      <th>diabetesMed</th>\n",
       "      <td>Yes</td>\n",
       "      <td>Yes</td>\n",
       "      <td>Yes</td>\n",
       "      <td>Yes</td>\n",
       "      <td>Yes</td>\n",
       "    </tr>\n",
       "    <tr>\n",
       "      <th>readmitted</th>\n",
       "      <td>&gt;30</td>\n",
       "      <td>NO</td>\n",
       "      <td>&gt;30</td>\n",
       "      <td>&gt;30</td>\n",
       "      <td>NO</td>\n",
       "    </tr>\n",
       "  </tbody>\n",
       "</table>\n",
       "</div>"
      ],
      "text/plain": [
       "                               1    4    5    7    9\n",
       "race                           3    3    3    3    3\n",
       "age                           15   45   55   75   95\n",
       "discharge_disposition_id       1    1    1    1    3\n",
       "admission_source_id            7    7    2    7    4\n",
       "time_in_hospital               3    1    3    5   12\n",
       "num_lab_procedures            59   51   31   73   33\n",
       "num_procedures                 0    0    6    0    3\n",
       "num_medications               18    8   16   12   18\n",
       "number_outpatient              0    0    0    0    0\n",
       "number_emergency               0    0    0    0    0\n",
       "number_inpatient               0    0    0    0    0\n",
       "diag_1                       276  197  414  428  434\n",
       "diag_2                    250.01  157  411  492  198\n",
       "diag_3                       255  250  250  250  486\n",
       "number_diagnoses               9    5    9    8    8\n",
       "max_glu_serum                -99  -99  -99  -99  -99\n",
       "A1Cresult                    -99  -99  -99  -99  -99\n",
       "metformin                      0    0    0    0    0\n",
       "repaglinide                    0    0    0    0    0\n",
       "glipizide                      0    1    0    0    0\n",
       "insulin                        1    1    1    0    1\n",
       "change                        Ch   Ch    0    0   Ch\n",
       "diabetesMed                  Yes  Yes  Yes  Yes  Yes\n",
       "readmitted                   >30   NO  >30  >30   NO"
      ]
     },
     "execution_count": 31,
     "metadata": {},
     "output_type": "execute_result"
    }
   ],
   "source": [
    "data.head().T"
   ]
  },
  {
   "cell_type": "code",
   "execution_count": 32,
   "metadata": {
    "colab": {},
    "colab_type": "code",
    "id": "SVc-k6QwGQTt"
   },
   "outputs": [],
   "source": [
    "data['change'] = data['change'].replace('Ch', 1)\n",
    "data['change'] = data['change'].replace('No', 0)"
   ]
  },
  {
   "cell_type": "code",
   "execution_count": 33,
   "metadata": {
    "colab": {},
    "colab_type": "code",
    "id": "ql99rIiMGQTx"
   },
   "outputs": [],
   "source": [
    "data['diabetesMed'] = data['diabetesMed'].replace('Yes', 1)\n",
    "data['diabetesMed'] = data['diabetesMed'].replace('No', 0)"
   ]
  },
  {
   "cell_type": "code",
   "execution_count": 34,
   "metadata": {
    "colab": {
     "base_uri": "https://localhost:8080/",
     "height": 768
    },
    "colab_type": "code",
    "executionInfo": {
     "elapsed": 872,
     "status": "ok",
     "timestamp": 1565870310176,
     "user": {
      "displayName": "devi endrawati",
      "photoUrl": "",
      "userId": "07128640360415640249"
     },
     "user_tz": -420
    },
    "id": "0TJoL2hyGQT_",
    "outputId": "1ec9174f-d0f8-45bd-88ad-0d38a531f70d"
   },
   "outputs": [
    {
     "data": {
      "text/html": [
       "<div>\n",
       "<style scoped>\n",
       "    .dataframe tbody tr th:only-of-type {\n",
       "        vertical-align: middle;\n",
       "    }\n",
       "\n",
       "    .dataframe tbody tr th {\n",
       "        vertical-align: top;\n",
       "    }\n",
       "\n",
       "    .dataframe thead th {\n",
       "        text-align: right;\n",
       "    }\n",
       "</style>\n",
       "<table border=\"1\" class=\"dataframe\">\n",
       "  <thead>\n",
       "    <tr style=\"text-align: right;\">\n",
       "      <th></th>\n",
       "      <th>1</th>\n",
       "      <th>4</th>\n",
       "      <th>5</th>\n",
       "      <th>7</th>\n",
       "      <th>9</th>\n",
       "    </tr>\n",
       "  </thead>\n",
       "  <tbody>\n",
       "    <tr>\n",
       "      <th>race</th>\n",
       "      <td>3</td>\n",
       "      <td>3</td>\n",
       "      <td>3</td>\n",
       "      <td>3</td>\n",
       "      <td>3</td>\n",
       "    </tr>\n",
       "    <tr>\n",
       "      <th>age</th>\n",
       "      <td>15</td>\n",
       "      <td>45</td>\n",
       "      <td>55</td>\n",
       "      <td>75</td>\n",
       "      <td>95</td>\n",
       "    </tr>\n",
       "    <tr>\n",
       "      <th>discharge_disposition_id</th>\n",
       "      <td>1</td>\n",
       "      <td>1</td>\n",
       "      <td>1</td>\n",
       "      <td>1</td>\n",
       "      <td>3</td>\n",
       "    </tr>\n",
       "    <tr>\n",
       "      <th>admission_source_id</th>\n",
       "      <td>7</td>\n",
       "      <td>7</td>\n",
       "      <td>2</td>\n",
       "      <td>7</td>\n",
       "      <td>4</td>\n",
       "    </tr>\n",
       "    <tr>\n",
       "      <th>time_in_hospital</th>\n",
       "      <td>3</td>\n",
       "      <td>1</td>\n",
       "      <td>3</td>\n",
       "      <td>5</td>\n",
       "      <td>12</td>\n",
       "    </tr>\n",
       "    <tr>\n",
       "      <th>num_lab_procedures</th>\n",
       "      <td>59</td>\n",
       "      <td>51</td>\n",
       "      <td>31</td>\n",
       "      <td>73</td>\n",
       "      <td>33</td>\n",
       "    </tr>\n",
       "    <tr>\n",
       "      <th>num_procedures</th>\n",
       "      <td>0</td>\n",
       "      <td>0</td>\n",
       "      <td>6</td>\n",
       "      <td>0</td>\n",
       "      <td>3</td>\n",
       "    </tr>\n",
       "    <tr>\n",
       "      <th>num_medications</th>\n",
       "      <td>18</td>\n",
       "      <td>8</td>\n",
       "      <td>16</td>\n",
       "      <td>12</td>\n",
       "      <td>18</td>\n",
       "    </tr>\n",
       "    <tr>\n",
       "      <th>number_outpatient</th>\n",
       "      <td>0</td>\n",
       "      <td>0</td>\n",
       "      <td>0</td>\n",
       "      <td>0</td>\n",
       "      <td>0</td>\n",
       "    </tr>\n",
       "    <tr>\n",
       "      <th>number_emergency</th>\n",
       "      <td>0</td>\n",
       "      <td>0</td>\n",
       "      <td>0</td>\n",
       "      <td>0</td>\n",
       "      <td>0</td>\n",
       "    </tr>\n",
       "    <tr>\n",
       "      <th>number_inpatient</th>\n",
       "      <td>0</td>\n",
       "      <td>0</td>\n",
       "      <td>0</td>\n",
       "      <td>0</td>\n",
       "      <td>0</td>\n",
       "    </tr>\n",
       "    <tr>\n",
       "      <th>diag_1</th>\n",
       "      <td>276</td>\n",
       "      <td>197</td>\n",
       "      <td>414</td>\n",
       "      <td>428</td>\n",
       "      <td>434</td>\n",
       "    </tr>\n",
       "    <tr>\n",
       "      <th>diag_2</th>\n",
       "      <td>250.01</td>\n",
       "      <td>157</td>\n",
       "      <td>411</td>\n",
       "      <td>492</td>\n",
       "      <td>198</td>\n",
       "    </tr>\n",
       "    <tr>\n",
       "      <th>diag_3</th>\n",
       "      <td>255</td>\n",
       "      <td>250</td>\n",
       "      <td>250</td>\n",
       "      <td>250</td>\n",
       "      <td>486</td>\n",
       "    </tr>\n",
       "    <tr>\n",
       "      <th>number_diagnoses</th>\n",
       "      <td>9</td>\n",
       "      <td>5</td>\n",
       "      <td>9</td>\n",
       "      <td>8</td>\n",
       "      <td>8</td>\n",
       "    </tr>\n",
       "    <tr>\n",
       "      <th>max_glu_serum</th>\n",
       "      <td>-99</td>\n",
       "      <td>-99</td>\n",
       "      <td>-99</td>\n",
       "      <td>-99</td>\n",
       "      <td>-99</td>\n",
       "    </tr>\n",
       "    <tr>\n",
       "      <th>A1Cresult</th>\n",
       "      <td>-99</td>\n",
       "      <td>-99</td>\n",
       "      <td>-99</td>\n",
       "      <td>-99</td>\n",
       "      <td>-99</td>\n",
       "    </tr>\n",
       "    <tr>\n",
       "      <th>metformin</th>\n",
       "      <td>0</td>\n",
       "      <td>0</td>\n",
       "      <td>0</td>\n",
       "      <td>0</td>\n",
       "      <td>0</td>\n",
       "    </tr>\n",
       "    <tr>\n",
       "      <th>repaglinide</th>\n",
       "      <td>0</td>\n",
       "      <td>0</td>\n",
       "      <td>0</td>\n",
       "      <td>0</td>\n",
       "      <td>0</td>\n",
       "    </tr>\n",
       "    <tr>\n",
       "      <th>glipizide</th>\n",
       "      <td>0</td>\n",
       "      <td>1</td>\n",
       "      <td>0</td>\n",
       "      <td>0</td>\n",
       "      <td>0</td>\n",
       "    </tr>\n",
       "    <tr>\n",
       "      <th>insulin</th>\n",
       "      <td>1</td>\n",
       "      <td>1</td>\n",
       "      <td>1</td>\n",
       "      <td>0</td>\n",
       "      <td>1</td>\n",
       "    </tr>\n",
       "    <tr>\n",
       "      <th>change</th>\n",
       "      <td>1</td>\n",
       "      <td>1</td>\n",
       "      <td>0</td>\n",
       "      <td>0</td>\n",
       "      <td>1</td>\n",
       "    </tr>\n",
       "    <tr>\n",
       "      <th>diabetesMed</th>\n",
       "      <td>1</td>\n",
       "      <td>1</td>\n",
       "      <td>1</td>\n",
       "      <td>1</td>\n",
       "      <td>1</td>\n",
       "    </tr>\n",
       "    <tr>\n",
       "      <th>readmitted</th>\n",
       "      <td>&gt;30</td>\n",
       "      <td>NO</td>\n",
       "      <td>&gt;30</td>\n",
       "      <td>&gt;30</td>\n",
       "      <td>NO</td>\n",
       "    </tr>\n",
       "  </tbody>\n",
       "</table>\n",
       "</div>"
      ],
      "text/plain": [
       "                               1    4    5    7    9\n",
       "race                           3    3    3    3    3\n",
       "age                           15   45   55   75   95\n",
       "discharge_disposition_id       1    1    1    1    3\n",
       "admission_source_id            7    7    2    7    4\n",
       "time_in_hospital               3    1    3    5   12\n",
       "num_lab_procedures            59   51   31   73   33\n",
       "num_procedures                 0    0    6    0    3\n",
       "num_medications               18    8   16   12   18\n",
       "number_outpatient              0    0    0    0    0\n",
       "number_emergency               0    0    0    0    0\n",
       "number_inpatient               0    0    0    0    0\n",
       "diag_1                       276  197  414  428  434\n",
       "diag_2                    250.01  157  411  492  198\n",
       "diag_3                       255  250  250  250  486\n",
       "number_diagnoses               9    5    9    8    8\n",
       "max_glu_serum                -99  -99  -99  -99  -99\n",
       "A1Cresult                    -99  -99  -99  -99  -99\n",
       "metformin                      0    0    0    0    0\n",
       "repaglinide                    0    0    0    0    0\n",
       "glipizide                      0    1    0    0    0\n",
       "insulin                        1    1    1    0    1\n",
       "change                         1    1    0    0    1\n",
       "diabetesMed                    1    1    1    1    1\n",
       "readmitted                   >30   NO  >30  >30   NO"
      ]
     },
     "execution_count": 34,
     "metadata": {},
     "output_type": "execute_result"
    }
   ],
   "source": [
    "data.head().T"
   ]
  },
  {
   "cell_type": "code",
   "execution_count": 35,
   "metadata": {
    "colab": {},
    "colab_type": "code",
    "id": "rwpyb-bqGQUN"
   },
   "outputs": [],
   "source": [
    "data['readmitted'] = data['readmitted'].replace('>30', 0)\n",
    "data['readmitted'] = data['readmitted'].replace('<30', 1) \n",
    "data['readmitted'] = data['readmitted'].replace('NO', 0)"
   ]
  },
  {
   "cell_type": "code",
   "execution_count": 36,
   "metadata": {
    "colab": {
     "base_uri": "https://localhost:8080/",
     "height": 768
    },
    "colab_type": "code",
    "executionInfo": {
     "elapsed": 1005,
     "status": "ok",
     "timestamp": 1565870316102,
     "user": {
      "displayName": "devi endrawati",
      "photoUrl": "",
      "userId": "07128640360415640249"
     },
     "user_tz": -420
    },
    "id": "JyRRey73GQUZ",
    "outputId": "66825908-657d-4f37-8145-ac122853726a"
   },
   "outputs": [
    {
     "data": {
      "text/html": [
       "<div>\n",
       "<style scoped>\n",
       "    .dataframe tbody tr th:only-of-type {\n",
       "        vertical-align: middle;\n",
       "    }\n",
       "\n",
       "    .dataframe tbody tr th {\n",
       "        vertical-align: top;\n",
       "    }\n",
       "\n",
       "    .dataframe thead th {\n",
       "        text-align: right;\n",
       "    }\n",
       "</style>\n",
       "<table border=\"1\" class=\"dataframe\">\n",
       "  <thead>\n",
       "    <tr style=\"text-align: right;\">\n",
       "      <th></th>\n",
       "      <th>1</th>\n",
       "      <th>4</th>\n",
       "      <th>5</th>\n",
       "      <th>7</th>\n",
       "      <th>9</th>\n",
       "    </tr>\n",
       "  </thead>\n",
       "  <tbody>\n",
       "    <tr>\n",
       "      <th>race</th>\n",
       "      <td>3.00</td>\n",
       "      <td>3.0</td>\n",
       "      <td>3.0</td>\n",
       "      <td>3.0</td>\n",
       "      <td>3.0</td>\n",
       "    </tr>\n",
       "    <tr>\n",
       "      <th>age</th>\n",
       "      <td>15.00</td>\n",
       "      <td>45.0</td>\n",
       "      <td>55.0</td>\n",
       "      <td>75.0</td>\n",
       "      <td>95.0</td>\n",
       "    </tr>\n",
       "    <tr>\n",
       "      <th>discharge_disposition_id</th>\n",
       "      <td>1.00</td>\n",
       "      <td>1.0</td>\n",
       "      <td>1.0</td>\n",
       "      <td>1.0</td>\n",
       "      <td>3.0</td>\n",
       "    </tr>\n",
       "    <tr>\n",
       "      <th>admission_source_id</th>\n",
       "      <td>7.00</td>\n",
       "      <td>7.0</td>\n",
       "      <td>2.0</td>\n",
       "      <td>7.0</td>\n",
       "      <td>4.0</td>\n",
       "    </tr>\n",
       "    <tr>\n",
       "      <th>time_in_hospital</th>\n",
       "      <td>3.00</td>\n",
       "      <td>1.0</td>\n",
       "      <td>3.0</td>\n",
       "      <td>5.0</td>\n",
       "      <td>12.0</td>\n",
       "    </tr>\n",
       "    <tr>\n",
       "      <th>num_lab_procedures</th>\n",
       "      <td>59.00</td>\n",
       "      <td>51.0</td>\n",
       "      <td>31.0</td>\n",
       "      <td>73.0</td>\n",
       "      <td>33.0</td>\n",
       "    </tr>\n",
       "    <tr>\n",
       "      <th>num_procedures</th>\n",
       "      <td>0.00</td>\n",
       "      <td>0.0</td>\n",
       "      <td>6.0</td>\n",
       "      <td>0.0</td>\n",
       "      <td>3.0</td>\n",
       "    </tr>\n",
       "    <tr>\n",
       "      <th>num_medications</th>\n",
       "      <td>18.00</td>\n",
       "      <td>8.0</td>\n",
       "      <td>16.0</td>\n",
       "      <td>12.0</td>\n",
       "      <td>18.0</td>\n",
       "    </tr>\n",
       "    <tr>\n",
       "      <th>number_outpatient</th>\n",
       "      <td>0.00</td>\n",
       "      <td>0.0</td>\n",
       "      <td>0.0</td>\n",
       "      <td>0.0</td>\n",
       "      <td>0.0</td>\n",
       "    </tr>\n",
       "    <tr>\n",
       "      <th>number_emergency</th>\n",
       "      <td>0.00</td>\n",
       "      <td>0.0</td>\n",
       "      <td>0.0</td>\n",
       "      <td>0.0</td>\n",
       "      <td>0.0</td>\n",
       "    </tr>\n",
       "    <tr>\n",
       "      <th>number_inpatient</th>\n",
       "      <td>0.00</td>\n",
       "      <td>0.0</td>\n",
       "      <td>0.0</td>\n",
       "      <td>0.0</td>\n",
       "      <td>0.0</td>\n",
       "    </tr>\n",
       "    <tr>\n",
       "      <th>diag_1</th>\n",
       "      <td>276.00</td>\n",
       "      <td>197.0</td>\n",
       "      <td>414.0</td>\n",
       "      <td>428.0</td>\n",
       "      <td>434.0</td>\n",
       "    </tr>\n",
       "    <tr>\n",
       "      <th>diag_2</th>\n",
       "      <td>250.01</td>\n",
       "      <td>157.0</td>\n",
       "      <td>411.0</td>\n",
       "      <td>492.0</td>\n",
       "      <td>198.0</td>\n",
       "    </tr>\n",
       "    <tr>\n",
       "      <th>diag_3</th>\n",
       "      <td>255.00</td>\n",
       "      <td>250.0</td>\n",
       "      <td>250.0</td>\n",
       "      <td>250.0</td>\n",
       "      <td>486.0</td>\n",
       "    </tr>\n",
       "    <tr>\n",
       "      <th>number_diagnoses</th>\n",
       "      <td>9.00</td>\n",
       "      <td>5.0</td>\n",
       "      <td>9.0</td>\n",
       "      <td>8.0</td>\n",
       "      <td>8.0</td>\n",
       "    </tr>\n",
       "    <tr>\n",
       "      <th>max_glu_serum</th>\n",
       "      <td>-99.00</td>\n",
       "      <td>-99.0</td>\n",
       "      <td>-99.0</td>\n",
       "      <td>-99.0</td>\n",
       "      <td>-99.0</td>\n",
       "    </tr>\n",
       "    <tr>\n",
       "      <th>A1Cresult</th>\n",
       "      <td>-99.00</td>\n",
       "      <td>-99.0</td>\n",
       "      <td>-99.0</td>\n",
       "      <td>-99.0</td>\n",
       "      <td>-99.0</td>\n",
       "    </tr>\n",
       "    <tr>\n",
       "      <th>metformin</th>\n",
       "      <td>0.00</td>\n",
       "      <td>0.0</td>\n",
       "      <td>0.0</td>\n",
       "      <td>0.0</td>\n",
       "      <td>0.0</td>\n",
       "    </tr>\n",
       "    <tr>\n",
       "      <th>repaglinide</th>\n",
       "      <td>0.00</td>\n",
       "      <td>0.0</td>\n",
       "      <td>0.0</td>\n",
       "      <td>0.0</td>\n",
       "      <td>0.0</td>\n",
       "    </tr>\n",
       "    <tr>\n",
       "      <th>glipizide</th>\n",
       "      <td>0.00</td>\n",
       "      <td>1.0</td>\n",
       "      <td>0.0</td>\n",
       "      <td>0.0</td>\n",
       "      <td>0.0</td>\n",
       "    </tr>\n",
       "    <tr>\n",
       "      <th>insulin</th>\n",
       "      <td>1.00</td>\n",
       "      <td>1.0</td>\n",
       "      <td>1.0</td>\n",
       "      <td>0.0</td>\n",
       "      <td>1.0</td>\n",
       "    </tr>\n",
       "    <tr>\n",
       "      <th>change</th>\n",
       "      <td>1.00</td>\n",
       "      <td>1.0</td>\n",
       "      <td>0.0</td>\n",
       "      <td>0.0</td>\n",
       "      <td>1.0</td>\n",
       "    </tr>\n",
       "    <tr>\n",
       "      <th>diabetesMed</th>\n",
       "      <td>1.00</td>\n",
       "      <td>1.0</td>\n",
       "      <td>1.0</td>\n",
       "      <td>1.0</td>\n",
       "      <td>1.0</td>\n",
       "    </tr>\n",
       "    <tr>\n",
       "      <th>readmitted</th>\n",
       "      <td>0.00</td>\n",
       "      <td>0.0</td>\n",
       "      <td>0.0</td>\n",
       "      <td>0.0</td>\n",
       "      <td>0.0</td>\n",
       "    </tr>\n",
       "  </tbody>\n",
       "</table>\n",
       "</div>"
      ],
      "text/plain": [
       "                               1      4      5      7      9\n",
       "race                        3.00    3.0    3.0    3.0    3.0\n",
       "age                        15.00   45.0   55.0   75.0   95.0\n",
       "discharge_disposition_id    1.00    1.0    1.0    1.0    3.0\n",
       "admission_source_id         7.00    7.0    2.0    7.0    4.0\n",
       "time_in_hospital            3.00    1.0    3.0    5.0   12.0\n",
       "num_lab_procedures         59.00   51.0   31.0   73.0   33.0\n",
       "num_procedures              0.00    0.0    6.0    0.0    3.0\n",
       "num_medications            18.00    8.0   16.0   12.0   18.0\n",
       "number_outpatient           0.00    0.0    0.0    0.0    0.0\n",
       "number_emergency            0.00    0.0    0.0    0.0    0.0\n",
       "number_inpatient            0.00    0.0    0.0    0.0    0.0\n",
       "diag_1                    276.00  197.0  414.0  428.0  434.0\n",
       "diag_2                    250.01  157.0  411.0  492.0  198.0\n",
       "diag_3                    255.00  250.0  250.0  250.0  486.0\n",
       "number_diagnoses            9.00    5.0    9.0    8.0    8.0\n",
       "max_glu_serum             -99.00  -99.0  -99.0  -99.0  -99.0\n",
       "A1Cresult                 -99.00  -99.0  -99.0  -99.0  -99.0\n",
       "metformin                   0.00    0.0    0.0    0.0    0.0\n",
       "repaglinide                 0.00    0.0    0.0    0.0    0.0\n",
       "glipizide                   0.00    1.0    0.0    0.0    0.0\n",
       "insulin                     1.00    1.0    1.0    0.0    1.0\n",
       "change                      1.00    1.0    0.0    0.0    1.0\n",
       "diabetesMed                 1.00    1.0    1.0    1.0    1.0\n",
       "readmitted                  0.00    0.0    0.0    0.0    0.0"
      ]
     },
     "execution_count": 36,
     "metadata": {},
     "output_type": "execute_result"
    }
   ],
   "source": [
    "data.head().T"
   ]
  },
  {
   "cell_type": "code",
   "execution_count": 37,
   "metadata": {
    "colab": {
     "base_uri": "https://localhost:8080/",
     "height": 72
    },
    "colab_type": "code",
    "executionInfo": {
     "elapsed": 791,
     "status": "ok",
     "timestamp": 1565870320154,
     "user": {
      "displayName": "devi endrawati",
      "photoUrl": "",
      "userId": "07128640360415640249"
     },
     "user_tz": -420
    },
    "id": "hMsg3BZhGQU7",
    "outputId": "91ba0a24-64b8-4b04-86f2-29cbaed2316b"
   },
   "outputs": [
    {
     "name": "stdout",
     "output_type": "stream",
     "text": [
      "0    78416\n",
      "1     9873\n",
      "Name: readmitted, dtype: int64\n"
     ]
    },
    {
     "data": {
      "image/png": "[encoded data removed]",
      "text/plain": [
       "<Figure size 432x288 with 1 Axes>"
      ]
     },
     "metadata": {
      "needs_background": "light"
     },
     "output_type": "display_data"
    }
   ],
   "source": [
    "print(data.readmitted.value_counts())\n",
    "data.readmitted.value_counts().plot(kind='bar', title='Count (readmitted)');"
   ]
  },
  {
   "cell_type": "code",
   "execution_count": 38,
   "metadata": {},
   "outputs": [
    {
     "data": {
      "text/plain": [
       "(88289, 24)"
      ]
     },
     "execution_count": 38,
     "metadata": {},
     "output_type": "execute_result"
    }
   ],
   "source": [
    "data.shape"
   ]
  },
  {
   "cell_type": "markdown",
   "metadata": {
    "colab_type": "text",
    "id": "YDnPhw_Bdrk4"
   },
   "source": [
    "# MACHINE LEARNING CLASSIFICATION"
   ]
  },
  {
   "cell_type": "code",
   "execution_count": 39,
   "metadata": {
    "colab": {},
    "colab_type": "code",
    "id": "2OO-redgGQVO"
   },
   "outputs": [],
   "source": [
    "# define the dictionary of models our script can use\n",
    "# the key to the dictionary is the name of the model\n",
    "# (supplied via command line argument) and the value is the model itself\n",
    "models = {\n",
    "    \"knn\": KNeighborsClassifier(n_neighbors=5),\n",
    "    \"naive_bayes\": GaussianNB(),\n",
    "    \"logit\": LogisticRegression(solver=\"lbfgs\", multi_class=\"auto\"),\n",
    "    \"svm\": SVC(kernel=\"rbf\", gamma=\"auto\"),\n",
    "    \"decision_tree\": DecisionTreeClassifier(),\n",
    "    \"random_forest\": RandomForestClassifier(n_estimators=100),\n",
    "}"
   ]
  },
  {
   "cell_type": "code",
   "execution_count": 40,
   "metadata": {
    "colab": {
     "base_uri": "https://localhost:8080/",
     "height": 472
    },
    "colab_type": "code",
    "executionInfo": {
     "elapsed": 940,
     "status": "ok",
     "timestamp": 1565870324867,
     "user": {
      "displayName": "devi endrawati",
      "photoUrl": "",
      "userId": "07128640360415640249"
     },
     "user_tz": -420
    },
    "id": "yoQ40bqIGQVT",
    "outputId": "4789a623-08b9-4044-8f48-9eadc788c597"
   },
   "outputs": [
    {
     "data": {
      "text/plain": [
       "race                          int64\n",
       "age                           int64\n",
       "discharge_disposition_id      int64\n",
       "admission_source_id           int64\n",
       "time_in_hospital              int64\n",
       "num_lab_procedures            int64\n",
       "num_procedures                int64\n",
       "num_medications               int64\n",
       "number_outpatient             int64\n",
       "number_emergency              int64\n",
       "number_inpatient              int64\n",
       "diag_1                      float64\n",
       "diag_2                      float64\n",
       "diag_3                      float64\n",
       "number_diagnoses              int64\n",
       "max_glu_serum                 int64\n",
       "A1Cresult                     int64\n",
       "metformin                     int64\n",
       "repaglinide                   int64\n",
       "glipizide                     int64\n",
       "insulin                       int64\n",
       "change                        int64\n",
       "diabetesMed                   int64\n",
       "readmitted                    int64\n",
       "dtype: object"
      ]
     },
     "execution_count": 40,
     "metadata": {},
     "output_type": "execute_result"
    }
   ],
   "source": [
    "data.dtypes"
   ]
  },
  {
   "cell_type": "code",
   "execution_count": 41,
   "metadata": {
    "colab": {},
    "colab_type": "code",
    "id": "4tl0DBQjGQVn"
   },
   "outputs": [],
   "source": [
    "Y = data['readmitted']"
   ]
  },
  {
   "cell_type": "code",
   "execution_count": 42,
   "metadata": {
    "colab": {},
    "colab_type": "code",
    "id": "RCmkPk8MGQVt"
   },
   "outputs": [],
   "source": [
    "data2 = data"
   ]
  },
  {
   "cell_type": "code",
   "execution_count": 43,
   "metadata": {
    "colab": {},
    "colab_type": "code",
    "id": "g0ibi_7RGQV0"
   },
   "outputs": [],
   "source": [
    "data2 = data2.drop(['readmitted'], axis=1)"
   ]
  },
  {
   "cell_type": "code",
   "execution_count": 44,
   "metadata": {
    "colab": {
     "base_uri": "https://localhost:8080/",
     "height": 738
    },
    "colab_type": "code",
    "executionInfo": {
     "elapsed": 766,
     "status": "ok",
     "timestamp": 1565870333219,
     "user": {
      "displayName": "devi endrawati",
      "photoUrl": "",
      "userId": "07128640360415640249"
     },
     "user_tz": -420
    },
    "id": "9ZIvuBCCGQV_",
    "outputId": "00ae1944-f71a-4021-f2ac-65fad97144fb"
   },
   "outputs": [
    {
     "data": {
      "text/html": [
       "<div>\n",
       "<style scoped>\n",
       "    .dataframe tbody tr th:only-of-type {\n",
       "        vertical-align: middle;\n",
       "    }\n",
       "\n",
       "    .dataframe tbody tr th {\n",
       "        vertical-align: top;\n",
       "    }\n",
       "\n",
       "    .dataframe thead th {\n",
       "        text-align: right;\n",
       "    }\n",
       "</style>\n",
       "<table border=\"1\" class=\"dataframe\">\n",
       "  <thead>\n",
       "    <tr style=\"text-align: right;\">\n",
       "      <th></th>\n",
       "      <th>1</th>\n",
       "      <th>4</th>\n",
       "      <th>5</th>\n",
       "      <th>7</th>\n",
       "      <th>9</th>\n",
       "    </tr>\n",
       "  </thead>\n",
       "  <tbody>\n",
       "    <tr>\n",
       "      <th>race</th>\n",
       "      <td>3.00</td>\n",
       "      <td>3.0</td>\n",
       "      <td>3.0</td>\n",
       "      <td>3.0</td>\n",
       "      <td>3.0</td>\n",
       "    </tr>\n",
       "    <tr>\n",
       "      <th>age</th>\n",
       "      <td>15.00</td>\n",
       "      <td>45.0</td>\n",
       "      <td>55.0</td>\n",
       "      <td>75.0</td>\n",
       "      <td>95.0</td>\n",
       "    </tr>\n",
       "    <tr>\n",
       "      <th>discharge_disposition_id</th>\n",
       "      <td>1.00</td>\n",
       "      <td>1.0</td>\n",
       "      <td>1.0</td>\n",
       "      <td>1.0</td>\n",
       "      <td>3.0</td>\n",
       "    </tr>\n",
       "    <tr>\n",
       "      <th>admission_source_id</th>\n",
       "      <td>7.00</td>\n",
       "      <td>7.0</td>\n",
       "      <td>2.0</td>\n",
       "      <td>7.0</td>\n",
       "      <td>4.0</td>\n",
       "    </tr>\n",
       "    <tr>\n",
       "      <th>time_in_hospital</th>\n",
       "      <td>3.00</td>\n",
       "      <td>1.0</td>\n",
       "      <td>3.0</td>\n",
       "      <td>5.0</td>\n",
       "      <td>12.0</td>\n",
       "    </tr>\n",
       "    <tr>\n",
       "      <th>num_lab_procedures</th>\n",
       "      <td>59.00</td>\n",
       "      <td>51.0</td>\n",
       "      <td>31.0</td>\n",
       "      <td>73.0</td>\n",
       "      <td>33.0</td>\n",
       "    </tr>\n",
       "    <tr>\n",
       "      <th>num_procedures</th>\n",
       "      <td>0.00</td>\n",
       "      <td>0.0</td>\n",
       "      <td>6.0</td>\n",
       "      <td>0.0</td>\n",
       "      <td>3.0</td>\n",
       "    </tr>\n",
       "    <tr>\n",
       "      <th>num_medications</th>\n",
       "      <td>18.00</td>\n",
       "      <td>8.0</td>\n",
       "      <td>16.0</td>\n",
       "      <td>12.0</td>\n",
       "      <td>18.0</td>\n",
       "    </tr>\n",
       "    <tr>\n",
       "      <th>number_outpatient</th>\n",
       "      <td>0.00</td>\n",
       "      <td>0.0</td>\n",
       "      <td>0.0</td>\n",
       "      <td>0.0</td>\n",
       "      <td>0.0</td>\n",
       "    </tr>\n",
       "    <tr>\n",
       "      <th>number_emergency</th>\n",
       "      <td>0.00</td>\n",
       "      <td>0.0</td>\n",
       "      <td>0.0</td>\n",
       "      <td>0.0</td>\n",
       "      <td>0.0</td>\n",
       "    </tr>\n",
       "    <tr>\n",
       "      <th>number_inpatient</th>\n",
       "      <td>0.00</td>\n",
       "      <td>0.0</td>\n",
       "      <td>0.0</td>\n",
       "      <td>0.0</td>\n",
       "      <td>0.0</td>\n",
       "    </tr>\n",
       "    <tr>\n",
       "      <th>diag_1</th>\n",
       "      <td>276.00</td>\n",
       "      <td>197.0</td>\n",
       "      <td>414.0</td>\n",
       "      <td>428.0</td>\n",
       "      <td>434.0</td>\n",
       "    </tr>\n",
       "    <tr>\n",
       "      <th>diag_2</th>\n",
       "      <td>250.01</td>\n",
       "      <td>157.0</td>\n",
       "      <td>411.0</td>\n",
       "      <td>492.0</td>\n",
       "      <td>198.0</td>\n",
       "    </tr>\n",
       "    <tr>\n",
       "      <th>diag_3</th>\n",
       "      <td>255.00</td>\n",
       "      <td>250.0</td>\n",
       "      <td>250.0</td>\n",
       "      <td>250.0</td>\n",
       "      <td>486.0</td>\n",
       "    </tr>\n",
       "    <tr>\n",
       "      <th>number_diagnoses</th>\n",
       "      <td>9.00</td>\n",
       "      <td>5.0</td>\n",
       "      <td>9.0</td>\n",
       "      <td>8.0</td>\n",
       "      <td>8.0</td>\n",
       "    </tr>\n",
       "    <tr>\n",
       "      <th>max_glu_serum</th>\n",
       "      <td>-99.00</td>\n",
       "      <td>-99.0</td>\n",
       "      <td>-99.0</td>\n",
       "      <td>-99.0</td>\n",
       "      <td>-99.0</td>\n",
       "    </tr>\n",
       "    <tr>\n",
       "      <th>A1Cresult</th>\n",
       "      <td>-99.00</td>\n",
       "      <td>-99.0</td>\n",
       "      <td>-99.0</td>\n",
       "      <td>-99.0</td>\n",
       "      <td>-99.0</td>\n",
       "    </tr>\n",
       "    <tr>\n",
       "      <th>metformin</th>\n",
       "      <td>0.00</td>\n",
       "      <td>0.0</td>\n",
       "      <td>0.0</td>\n",
       "      <td>0.0</td>\n",
       "      <td>0.0</td>\n",
       "    </tr>\n",
       "    <tr>\n",
       "      <th>repaglinide</th>\n",
       "      <td>0.00</td>\n",
       "      <td>0.0</td>\n",
       "      <td>0.0</td>\n",
       "      <td>0.0</td>\n",
       "      <td>0.0</td>\n",
       "    </tr>\n",
       "    <tr>\n",
       "      <th>glipizide</th>\n",
       "      <td>0.00</td>\n",
       "      <td>1.0</td>\n",
       "      <td>0.0</td>\n",
       "      <td>0.0</td>\n",
       "      <td>0.0</td>\n",
       "    </tr>\n",
       "    <tr>\n",
       "      <th>insulin</th>\n",
       "      <td>1.00</td>\n",
       "      <td>1.0</td>\n",
       "      <td>1.0</td>\n",
       "      <td>0.0</td>\n",
       "      <td>1.0</td>\n",
       "    </tr>\n",
       "    <tr>\n",
       "      <th>change</th>\n",
       "      <td>1.00</td>\n",
       "      <td>1.0</td>\n",
       "      <td>0.0</td>\n",
       "      <td>0.0</td>\n",
       "      <td>1.0</td>\n",
       "    </tr>\n",
       "    <tr>\n",
       "      <th>diabetesMed</th>\n",
       "      <td>1.00</td>\n",
       "      <td>1.0</td>\n",
       "      <td>1.0</td>\n",
       "      <td>1.0</td>\n",
       "      <td>1.0</td>\n",
       "    </tr>\n",
       "  </tbody>\n",
       "</table>\n",
       "</div>"
      ],
      "text/plain": [
       "                               1      4      5      7      9\n",
       "race                        3.00    3.0    3.0    3.0    3.0\n",
       "age                        15.00   45.0   55.0   75.0   95.0\n",
       "discharge_disposition_id    1.00    1.0    1.0    1.0    3.0\n",
       "admission_source_id         7.00    7.0    2.0    7.0    4.0\n",
       "time_in_hospital            3.00    1.0    3.0    5.0   12.0\n",
       "num_lab_procedures         59.00   51.0   31.0   73.0   33.0\n",
       "num_procedures              0.00    0.0    6.0    0.0    3.0\n",
       "num_medications            18.00    8.0   16.0   12.0   18.0\n",
       "number_outpatient           0.00    0.0    0.0    0.0    0.0\n",
       "number_emergency            0.00    0.0    0.0    0.0    0.0\n",
       "number_inpatient            0.00    0.0    0.0    0.0    0.0\n",
       "diag_1                    276.00  197.0  414.0  428.0  434.0\n",
       "diag_2                    250.01  157.0  411.0  492.0  198.0\n",
       "diag_3                    255.00  250.0  250.0  250.0  486.0\n",
       "number_diagnoses            9.00    5.0    9.0    8.0    8.0\n",
       "max_glu_serum             -99.00  -99.0  -99.0  -99.0  -99.0\n",
       "A1Cresult                 -99.00  -99.0  -99.0  -99.0  -99.0\n",
       "metformin                   0.00    0.0    0.0    0.0    0.0\n",
       "repaglinide                 0.00    0.0    0.0    0.0    0.0\n",
       "glipizide                   0.00    1.0    0.0    0.0    0.0\n",
       "insulin                     1.00    1.0    1.0    0.0    1.0\n",
       "change                      1.00    1.0    0.0    0.0    1.0\n",
       "diabetesMed                 1.00    1.0    1.0    1.0    1.0"
      ]
     },
     "execution_count": 44,
     "metadata": {},
     "output_type": "execute_result"
    }
   ],
   "source": [
    "data2.head().T"
   ]
  },
  {
   "cell_type": "markdown",
   "metadata": {
    "colab_type": "text",
    "id": "9lFrlAafGQWh"
   },
   "source": [
    "\n",
    "\n",
    "\n"
   ]
  },
  {
   "cell_type": "markdown",
   "metadata": {
    "colab_type": "text",
    "id": "CFoJFq8mGQWi"
   },
   "source": [
    "==========================================PCA==============================================================="
   ]
  },
  {
   "cell_type": "code",
   "execution_count": 45,
   "metadata": {
    "colab": {},
    "colab_type": "code",
    "id": "GEmY51HtGQW2"
   },
   "outputs": [],
   "source": [
    "# from sklearn.preprocessing import StandardScaler\n",
    "# # features = ['race','age','discharge_disposition_id','admission_source_id','time_in_hospital','num_lab_procedures','num_procedures','num_medications','number_outpatient','number_emergency','number_inpatient','diag_1','diag_2','diag_3','number_diagnoses','max_glu_serum','A1Cresult','metformin','repaglinide','glipizide','insulin','change','diabetesMed']\n",
    "# # Separating out the features\n",
    "# x = data.iloc[:,0:23].values\n",
    "# y = data.iloc[Y].values\n",
    "# # x = data3.loc[:, features].values\n",
    "# # Separating out the target\n",
    "# # y = data3.loc[:,['readmitted'].values\n",
    "# # Standardizing the features\n",
    "# x = StandardScaler().fit_transform(x)\n",
    "# # sc_X = StandardScaler()\n",
    "# # x = sc_X.fit_transform(x)\n"
   ]
  },
  {
   "cell_type": "code",
   "execution_count": 46,
   "metadata": {
    "colab": {},
    "colab_type": "code",
    "id": "eRJp_yGfGQXL"
   },
   "outputs": [],
   "source": [
    "# from sklearn.decomposition import PCA\n",
    "# pca = PCA(n_components=2)\n",
    "# principalComponents = pca.fit_transform(x)\n",
    "# principalDf = pd.DataFrame(data = principalComponents, columns = ['principal component 1', 'principal component 2'])"
   ]
  },
  {
   "cell_type": "code",
   "execution_count": 47,
   "metadata": {
    "colab": {},
    "colab_type": "code",
    "id": "yPFciiVhGQXZ"
   },
   "outputs": [],
   "source": [
    "# data3 = principalDf\n",
    "# data3.head()"
   ]
  },
  {
   "cell_type": "code",
   "execution_count": 48,
   "metadata": {
    "colab": {},
    "colab_type": "code",
    "id": "febNyhphGQXn"
   },
   "outputs": [],
   "source": [
    "# print(\"[INFO] loaading data...\")\n",
    "# (trainX, testX, trainY, testY) = train_test_split(principalDf, Y, random_state=3, test_size=0.25) "
   ]
  },
  {
   "cell_type": "code",
   "execution_count": 49,
   "metadata": {
    "colab": {},
    "colab_type": "code",
    "id": "rL1X0DaOGQXt"
   },
   "outputs": [],
   "source": [
    "# ##EXERCISE 1 Build classifier from 2-dimensional dataset resulted by PCA\n",
    "\n",
    "# model = models[\"knn\"]\n",
    "# model.fit(trainX, trainY) #fit untuk melakukan proses training\n",
    "# # make predictions on our data and show a classification report\n",
    "# print(\"[INFO] evaluating...\")\n",
    "# predictions = model.predict(testX)\n",
    "# print(classification_report(testY, predictions)) #classification_report untuk melakukan hasilnya\n",
    "\n",
    "# print(\"KNN accuracy : \",accuracy_score(testY, predictions , normalize = True))\n"
   ]
  },
  {
   "cell_type": "markdown",
   "metadata": {
    "colab_type": "text",
    "id": "SzJc8aPTGQXx"
   },
   "source": [
    "===================================================PCA================================================================"
   ]
  },
  {
   "cell_type": "code",
   "execution_count": 50,
   "metadata": {
    "colab": {
     "base_uri": "https://localhost:8080/",
     "height": 218
    },
    "colab_type": "code",
    "executionInfo": {
     "elapsed": 817,
     "status": "ok",
     "timestamp": 1565870339788,
     "user": {
      "displayName": "devi endrawati",
      "photoUrl": "",
      "userId": "07128640360415640249"
     },
     "user_tz": -420
    },
    "id": "FQQrlFWOGQX7",
    "outputId": "80d07250-530a-4634-ee36-17e91c45f26f"
   },
   "outputs": [
    {
     "data": {
      "text/html": [
       "<div>\n",
       "<style scoped>\n",
       "    .dataframe tbody tr th:only-of-type {\n",
       "        vertical-align: middle;\n",
       "    }\n",
       "\n",
       "    .dataframe tbody tr th {\n",
       "        vertical-align: top;\n",
       "    }\n",
       "\n",
       "    .dataframe thead th {\n",
       "        text-align: right;\n",
       "    }\n",
       "</style>\n",
       "<table border=\"1\" class=\"dataframe\">\n",
       "  <thead>\n",
       "    <tr style=\"text-align: right;\">\n",
       "      <th></th>\n",
       "      <th>race</th>\n",
       "      <th>age</th>\n",
       "      <th>discharge_disposition_id</th>\n",
       "      <th>admission_source_id</th>\n",
       "      <th>time_in_hospital</th>\n",
       "      <th>num_lab_procedures</th>\n",
       "      <th>num_procedures</th>\n",
       "      <th>num_medications</th>\n",
       "      <th>number_outpatient</th>\n",
       "      <th>number_emergency</th>\n",
       "      <th>...</th>\n",
       "      <th>diag_3</th>\n",
       "      <th>number_diagnoses</th>\n",
       "      <th>max_glu_serum</th>\n",
       "      <th>A1Cresult</th>\n",
       "      <th>metformin</th>\n",
       "      <th>repaglinide</th>\n",
       "      <th>glipizide</th>\n",
       "      <th>insulin</th>\n",
       "      <th>change</th>\n",
       "      <th>diabetesMed</th>\n",
       "    </tr>\n",
       "  </thead>\n",
       "  <tbody>\n",
       "    <tr>\n",
       "      <th>1</th>\n",
       "      <td>3</td>\n",
       "      <td>15</td>\n",
       "      <td>1</td>\n",
       "      <td>7</td>\n",
       "      <td>3</td>\n",
       "      <td>59</td>\n",
       "      <td>0</td>\n",
       "      <td>18</td>\n",
       "      <td>0</td>\n",
       "      <td>0</td>\n",
       "      <td>...</td>\n",
       "      <td>255.0</td>\n",
       "      <td>9</td>\n",
       "      <td>-99</td>\n",
       "      <td>-99</td>\n",
       "      <td>0</td>\n",
       "      <td>0</td>\n",
       "      <td>0</td>\n",
       "      <td>1</td>\n",
       "      <td>1</td>\n",
       "      <td>1</td>\n",
       "    </tr>\n",
       "    <tr>\n",
       "      <th>4</th>\n",
       "      <td>3</td>\n",
       "      <td>45</td>\n",
       "      <td>1</td>\n",
       "      <td>7</td>\n",
       "      <td>1</td>\n",
       "      <td>51</td>\n",
       "      <td>0</td>\n",
       "      <td>8</td>\n",
       "      <td>0</td>\n",
       "      <td>0</td>\n",
       "      <td>...</td>\n",
       "      <td>250.0</td>\n",
       "      <td>5</td>\n",
       "      <td>-99</td>\n",
       "      <td>-99</td>\n",
       "      <td>0</td>\n",
       "      <td>0</td>\n",
       "      <td>1</td>\n",
       "      <td>1</td>\n",
       "      <td>1</td>\n",
       "      <td>1</td>\n",
       "    </tr>\n",
       "    <tr>\n",
       "      <th>5</th>\n",
       "      <td>3</td>\n",
       "      <td>55</td>\n",
       "      <td>1</td>\n",
       "      <td>2</td>\n",
       "      <td>3</td>\n",
       "      <td>31</td>\n",
       "      <td>6</td>\n",
       "      <td>16</td>\n",
       "      <td>0</td>\n",
       "      <td>0</td>\n",
       "      <td>...</td>\n",
       "      <td>250.0</td>\n",
       "      <td>9</td>\n",
       "      <td>-99</td>\n",
       "      <td>-99</td>\n",
       "      <td>0</td>\n",
       "      <td>0</td>\n",
       "      <td>0</td>\n",
       "      <td>1</td>\n",
       "      <td>0</td>\n",
       "      <td>1</td>\n",
       "    </tr>\n",
       "    <tr>\n",
       "      <th>7</th>\n",
       "      <td>3</td>\n",
       "      <td>75</td>\n",
       "      <td>1</td>\n",
       "      <td>7</td>\n",
       "      <td>5</td>\n",
       "      <td>73</td>\n",
       "      <td>0</td>\n",
       "      <td>12</td>\n",
       "      <td>0</td>\n",
       "      <td>0</td>\n",
       "      <td>...</td>\n",
       "      <td>250.0</td>\n",
       "      <td>8</td>\n",
       "      <td>-99</td>\n",
       "      <td>-99</td>\n",
       "      <td>0</td>\n",
       "      <td>0</td>\n",
       "      <td>0</td>\n",
       "      <td>0</td>\n",
       "      <td>0</td>\n",
       "      <td>1</td>\n",
       "    </tr>\n",
       "    <tr>\n",
       "      <th>9</th>\n",
       "      <td>3</td>\n",
       "      <td>95</td>\n",
       "      <td>3</td>\n",
       "      <td>4</td>\n",
       "      <td>12</td>\n",
       "      <td>33</td>\n",
       "      <td>3</td>\n",
       "      <td>18</td>\n",
       "      <td>0</td>\n",
       "      <td>0</td>\n",
       "      <td>...</td>\n",
       "      <td>486.0</td>\n",
       "      <td>8</td>\n",
       "      <td>-99</td>\n",
       "      <td>-99</td>\n",
       "      <td>0</td>\n",
       "      <td>0</td>\n",
       "      <td>0</td>\n",
       "      <td>1</td>\n",
       "      <td>1</td>\n",
       "      <td>1</td>\n",
       "    </tr>\n",
       "  </tbody>\n",
       "</table>\n",
       "<p>5 rows × 23 columns</p>\n",
       "</div>"
      ],
      "text/plain": [
       "   race  age  discharge_disposition_id  admission_source_id  time_in_hospital  \\\n",
       "1     3   15                         1                    7                 3   \n",
       "4     3   45                         1                    7                 1   \n",
       "5     3   55                         1                    2                 3   \n",
       "7     3   75                         1                    7                 5   \n",
       "9     3   95                         3                    4                12   \n",
       "\n",
       "   num_lab_procedures  num_procedures  num_medications  number_outpatient  \\\n",
       "1                  59               0               18                  0   \n",
       "4                  51               0                8                  0   \n",
       "5                  31               6               16                  0   \n",
       "7                  73               0               12                  0   \n",
       "9                  33               3               18                  0   \n",
       "\n",
       "   number_emergency  ...  diag_3  number_diagnoses  max_glu_serum  A1Cresult  \\\n",
       "1                 0  ...   255.0                 9            -99        -99   \n",
       "4                 0  ...   250.0                 5            -99        -99   \n",
       "5                 0  ...   250.0                 9            -99        -99   \n",
       "7                 0  ...   250.0                 8            -99        -99   \n",
       "9                 0  ...   486.0                 8            -99        -99   \n",
       "\n",
       "   metformin  repaglinide  glipizide  insulin  change  diabetesMed  \n",
       "1          0            0          0        1       1            1  \n",
       "4          0            0          1        1       1            1  \n",
       "5          0            0          0        1       0            1  \n",
       "7          0            0          0        0       0            1  \n",
       "9          0            0          0        1       1            1  \n",
       "\n",
       "[5 rows x 23 columns]"
      ]
     },
     "execution_count": 50,
     "metadata": {},
     "output_type": "execute_result"
    }
   ],
   "source": [
    "data2.head()"
   ]
  },
  {
   "cell_type": "code",
   "execution_count": 51,
   "metadata": {
    "colab": {
     "base_uri": "https://localhost:8080/",
     "height": 110
    },
    "colab_type": "code",
    "executionInfo": {
     "elapsed": 3809,
     "status": "ok",
     "timestamp": 1565870346507,
     "user": {
      "displayName": "devi endrawati",
      "photoUrl": "",
      "userId": "07128640360415640249"
     },
     "user_tz": -420
    },
    "id": "H7VbUNWjGQX_",
    "outputId": "d990041c-7a30-4d60-b319-ec8075335a38"
   },
   "outputs": [
    {
     "name": "stderr",
     "output_type": "stream",
     "text": [
      "Using TensorFlow backend.\n"
     ]
    },
    {
     "name": "stdout",
     "output_type": "stream",
     "text": [
      "Original dataset shape Counter({0: 78416, 1: 9873})\n",
      "New dataset shape Counter({0: 78416, 1: 78416})\n"
     ]
    }
   ],
   "source": [
    "# Data balancing applied using SMOTE\n",
    "from imblearn.over_sampling import SMOTE\n",
    "\n",
    "from collections import Counter\n",
    "print('Original dataset shape {}'.format(Counter(Y)))\n",
    "sm = SMOTE(random_state=20)\n",
    "train_input_new, train_output_new = sm.fit_sample(data2, Y)\n",
    "print('New dataset shape {}'.format(Counter(train_output_new)))"
   ]
  },
  {
   "cell_type": "code",
   "execution_count": 52,
   "metadata": {
    "colab": {},
    "colab_type": "code",
    "id": "rLfGN43eGQYE"
   },
   "outputs": [],
   "source": [
    "train_input_new = pd.DataFrame(train_input_new, columns = list(data2.columns))"
   ]
  },
  {
   "cell_type": "markdown",
   "metadata": {
    "colab_type": "text",
    "id": "7SKfJpLxGQYI"
   },
   "source": [
    "## Model Before Cross Validation"
   ]
  },
  {
   "cell_type": "code",
   "execution_count": 53,
   "metadata": {
    "colab": {},
    "colab_type": "code",
    "id": "_52wiAznGQYK"
   },
   "outputs": [],
   "source": [
    "X_train, X_test, Y_train, Y_test = train_test_split(train_input_new,train_output_new, test_size =1/3, random_state=123)"
   ]
  },
  {
   "cell_type": "code",
   "execution_count": 54,
   "metadata": {
    "colab": {},
    "colab_type": "code",
    "id": "4gfb-JWvGQYQ"
   },
   "outputs": [],
   "source": [
    "from sklearn.metrics import accuracy_score, precision_score, recall_score, roc_auc_score"
   ]
  },
  {
   "cell_type": "code",
   "execution_count": 55,
   "metadata": {
    "colab": {
     "base_uri": "https://localhost:8080/",
     "height": 217
    },
    "colab_type": "code",
    "executionInfo": {
     "elapsed": 5384,
     "status": "ok",
     "timestamp": 1565870376477,
     "user": {
      "displayName": "devi endrawati",
      "photoUrl": "",
      "userId": "07128640360415640249"
     },
     "user_tz": -420
    },
    "id": "lC_89J-xGQYZ",
    "outputId": "fccdcad5-1957-4285-cf76-a9a7d7f9748e"
   },
   "outputs": [
    {
     "name": "stdout",
     "output_type": "stream",
     "text": [
      "[INFO] evaluating...\n",
      "              precision    recall  f1-score   support\n",
      "\n",
      "           0       0.94      0.61      0.74     26274\n",
      "           1       0.71      0.96      0.82     26004\n",
      "\n",
      "    accuracy                           0.79     52278\n",
      "   macro avg       0.83      0.79      0.78     52278\n",
      "weighted avg       0.83      0.79      0.78     52278\n",
      "\n",
      "KNN accuracy :  0.7854355560656491\n"
     ]
    }
   ],
   "source": [
    "# train the modelprint(\"[INFO] using '{}' model\".format(model_name))\n",
    "model = models[\"knn\"]\n",
    "model.fit(X_train, Y_train) #fit untuk melakukan proses training\n",
    "# make predictions on our data and show a classification report\n",
    "print(\"[INFO] evaluating...\")\n",
    "predictions = model.predict(X_test)\n",
    "print(classification_report(Y_test, predictions)) #classification_report untuk melakukan hasilnya\n",
    "\n",
    "print(\"KNN accuracy : \",accuracy_score(Y_test, predictions , normalize = True))\n",
    "acc_knn = accuracy_score(Y_test, predictions , normalize = True)\n",
    "precision_knn = precision_score(Y_test, predictions)\n",
    "recall_knn = recall_score(Y_test,  predictions)\n",
    "auc_knn = roc_auc_score(Y_test,  predictions)"
   ]
  },
  {
   "cell_type": "code",
   "execution_count": 56,
   "metadata": {
    "colab": {
     "base_uri": "https://localhost:8080/",
     "height": 217
    },
    "colab_type": "code",
    "executionInfo": {
     "elapsed": 804,
     "status": "ok",
     "timestamp": 1565870381234,
     "user": {
      "displayName": "devi endrawati",
      "photoUrl": "",
      "userId": "07128640360415640249"
     },
     "user_tz": -420
    },
    "id": "HgNSJw-VGQYq",
    "outputId": "f323d4aa-80e0-4958-a946-e06850b0d740"
   },
   "outputs": [
    {
     "name": "stdout",
     "output_type": "stream",
     "text": [
      "[INFO] evaluating...\n",
      "              precision    recall  f1-score   support\n",
      "\n",
      "           0       0.65      0.70      0.68     26274\n",
      "           1       0.67      0.62      0.65     26004\n",
      "\n",
      "    accuracy                           0.66     52278\n",
      "   macro avg       0.66      0.66      0.66     52278\n",
      "weighted avg       0.66      0.66      0.66     52278\n",
      "\n",
      "naive_bayes accuracy :  0.6616358697731359\n"
     ]
    }
   ],
   "source": [
    "# train the modelprint(\"[INFO] using '{}' model\".format(model_name))\n",
    "model = models[\"naive_bayes\"]\n",
    "model.fit(X_train, Y_train) #fit untuk melakukan proses training\n",
    "# make predictions on our data and show a classification report\n",
    "print(\"[INFO] evaluating...\")\n",
    "predictions = model.predict(X_test)\n",
    "print(classification_report(Y_test, predictions)) #classification_report untuk melakukan hasilnya\n",
    "\n",
    "print(\"naive_bayes accuracy : \",accuracy_score(Y_test, predictions , normalize = True))\n",
    "acc_nb = accuracy_score(Y_test, predictions , normalize = True)\n",
    "precision_nb = precision_score(Y_test, predictions)\n",
    "recall_nb = recall_score(Y_test,  predictions)\n",
    "auc_nb = roc_auc_score(Y_test,  predictions)"
   ]
  },
  {
   "cell_type": "code",
   "execution_count": 57,
   "metadata": {
    "colab": {
     "base_uri": "https://localhost:8080/",
     "height": 217
    },
    "colab_type": "code",
    "executionInfo": {
     "elapsed": 1772,
     "status": "ok",
     "timestamp": 1565870386004,
     "user": {
      "displayName": "devi endrawati",
      "photoUrl": "",
      "userId": "07128640360415640249"
     },
     "user_tz": -420
    },
    "id": "HHhVj_3kGQYu",
    "outputId": "39437ee4-7acf-4fe0-bb95-877e55d6cc30"
   },
   "outputs": [
    {
     "name": "stdout",
     "output_type": "stream",
     "text": [
      "[INFO] evaluating...\n",
      "              precision    recall  f1-score   support\n",
      "\n",
      "           0       0.89      0.87      0.88     26274\n",
      "           1       0.87      0.89      0.88     26004\n",
      "\n",
      "    accuracy                           0.88     52278\n",
      "   macro avg       0.88      0.88      0.88     52278\n",
      "weighted avg       0.88      0.88      0.88     52278\n",
      "\n",
      "decision_tree accuracy :  0.8769845824247293\n"
     ]
    }
   ],
   "source": [
    "# train the modelprint(\"[INFO] using '{}' model\".format(model_name))\n",
    "model = models[\"decision_tree\"]\n",
    "model.fit(X_train, Y_train) #fit untuk melakukan proses training\n",
    "# make predictions on our data and show a classification report\n",
    "print(\"[INFO] evaluating...\")\n",
    "predictions = model.predict(X_test)\n",
    "print(classification_report(Y_test, predictions)) #classification_report untuk melakukan hasilnya\n",
    "\n",
    "print(\"decision_tree accuracy : \",accuracy_score(Y_test, predictions , normalize = True))\n",
    "acc_dt = accuracy_score(Y_test, predictions , normalize = True)\n",
    "precision_dt = precision_score(Y_test, predictions)\n",
    "recall_dt = recall_score(Y_test,  predictions)\n",
    "auc_dt = roc_auc_score(Y_test,  predictions)"
   ]
  },
  {
   "cell_type": "code",
   "execution_count": 58,
   "metadata": {
    "colab": {
     "base_uri": "https://localhost:8080/",
     "height": 217
    },
    "colab_type": "code",
    "executionInfo": {
     "elapsed": 16934,
     "status": "ok",
     "timestamp": 1565870406742,
     "user": {
      "displayName": "devi endrawati",
      "photoUrl": "",
      "userId": "07128640360415640249"
     },
     "user_tz": -420
    },
    "id": "n4oVjVddGQY_",
    "outputId": "34676881-5e10-48ff-b6d6-47b35b6908cb"
   },
   "outputs": [
    {
     "name": "stdout",
     "output_type": "stream",
     "text": [
      "[INFO] evaluating...\n",
      "              precision    recall  f1-score   support\n",
      "\n",
      "           0       0.89      1.00      0.94     26274\n",
      "           1       1.00      0.87      0.93     26004\n",
      "\n",
      "    accuracy                           0.94     52278\n",
      "   macro avg       0.94      0.93      0.93     52278\n",
      "weighted avg       0.94      0.94      0.93     52278\n",
      "\n",
      "random_forest accuracy :  0.9351734955430583\n"
     ]
    }
   ],
   "source": [
    "# train the modelprint(\"[INFO] using '{}' model\".format(model_name))\n",
    "model = models[\"random_forest\"]\n",
    "model.fit(X_train, Y_train) #fit untuk melakukan proses training\n",
    "# make predictions on our data and show a classification report\n",
    "print(\"[INFO] evaluating...\")\n",
    "predictions = model.predict(X_test)\n",
    "print(classification_report(Y_test, predictions)) #classification_report untuk melakukan hasilnya\n",
    "\n",
    "print(\"random_forest accuracy : \",accuracy_score(Y_test, predictions , normalize = True))\n",
    "acc_rf = accuracy_score(Y_test, predictions , normalize = True)\n",
    "precision_rf = precision_score(Y_test, predictions)\n",
    "recall_rf = recall_score(Y_test,  predictions)\n",
    "auc_rf = roc_auc_score(Y_test,  predictions)"
   ]
  },
  {
   "cell_type": "code",
   "execution_count": 59,
   "metadata": {
    "colab": {
     "base_uri": "https://localhost:8080/",
     "height": 274
    },
    "colab_type": "code",
    "executionInfo": {
     "elapsed": 2435,
     "status": "ok",
     "timestamp": 1565870415792,
     "user": {
      "displayName": "devi endrawati",
      "photoUrl": "",
      "userId": "07128640360415640249"
     },
     "user_tz": -420
    },
    "id": "BM4aZdvlGQZG",
    "outputId": "5eb81969-6928-4eb9-d1ea-875d79d978a4"
   },
   "outputs": [
    {
     "name": "stdout",
     "output_type": "stream",
     "text": [
      "[INFO] evaluating...\n",
      "              precision    recall  f1-score   support\n",
      "\n",
      "           0       0.60      0.64      0.62     26274\n",
      "           1       0.61      0.56      0.58     26004\n",
      "\n",
      "    accuracy                           0.60     52278\n",
      "   macro avg       0.60      0.60      0.60     52278\n",
      "weighted avg       0.60      0.60      0.60     52278\n",
      "\n",
      "logit accuracy :  0.6027965874746547\n"
     ]
    },
    {
     "name": "stderr",
     "output_type": "stream",
     "text": [
      "C:\\Users\\LENOVO\\Anaconda3\\lib\\site-packages\\sklearn\\linear_model\\logistic.py:947: ConvergenceWarning: lbfgs failed to converge. Increase the number of iterations.\n",
      "  \"of iterations.\", ConvergenceWarning)\n"
     ]
    }
   ],
   "source": [
    "# train the modelprint(\"[INFO] using '{}' model\".format(model_name))\n",
    "model = models[\"logit\"]\n",
    "model.fit(X_train, Y_train) #fit untuk melakukan proses training\n",
    "# make predictions on our data and show a classification report\n",
    "print(\"[INFO] evaluating...\")\n",
    "predictions = model.predict(X_test)\n",
    "print(classification_report(Y_test, predictions)) #classification_report untuk melakukan hasilnya\n",
    "\n",
    "print(\"logit accuracy : \",accuracy_score(Y_test, predictions , normalize = True))\n",
    "acc_logit = accuracy_score(Y_test, predictions , normalize = True)\n",
    "precision_logit = precision_score(Y_test, predictions)\n",
    "recall_logit = recall_score(Y_test,  predictions)\n",
    "auc_logit = roc_auc_score(Y_test,  predictions)"
   ]
  },
  {
   "cell_type": "markdown",
   "metadata": {
    "colab_type": "text",
    "id": "_YpdVvkgeDrV"
   },
   "source": [
    "## Model With Cross Validation"
   ]
  },
  {
   "cell_type": "code",
   "execution_count": 60,
   "metadata": {
    "colab": {},
    "colab_type": "code",
    "id": "4youfeLdGQZK"
   },
   "outputs": [],
   "source": [
    "from sklearn.model_selection import train_test_split\n",
    "from sklearn.linear_model import LogisticRegression\n",
    "from sklearn.model_selection import cross_val_score\n",
    "X_train, X_dev, Y_train, Y_dev = train_test_split(train_input_new, train_output_new, test_size=0.20, random_state=0)"
   ]
  },
  {
   "cell_type": "markdown",
   "metadata": {
    "colab_type": "text",
    "id": "OpSyJHLfGQZb"
   },
   "source": [
    "                                            TRY"
   ]
  },
  {
   "cell_type": "code",
   "execution_count": 61,
   "metadata": {
    "colab": {
     "base_uri": "https://localhost:8080/",
     "height": 474
    },
    "colab_type": "code",
    "executionInfo": {
     "elapsed": 67873,
     "status": "ok",
     "timestamp": 1565870517003,
     "user": {
      "displayName": "devi endrawati",
      "photoUrl": "",
      "userId": "07128640360415640249"
     },
     "user_tz": -420
    },
    "id": "H66F6IONGQZc",
    "outputId": "70a56cec-a3e2-4538-80ab-0e52a5a6c9a4"
   },
   "outputs": [
    {
     "name": "stderr",
     "output_type": "stream",
     "text": [
      "C:\\Users\\LENOVO\\Anaconda3\\lib\\site-packages\\sklearn\\linear_model\\logistic.py:432: FutureWarning: Default solver will be changed to 'lbfgs' in 0.22. Specify a solver to silence this warning.\n",
      "  FutureWarning)\n",
      "C:\\Users\\LENOVO\\Anaconda3\\lib\\site-packages\\sklearn\\linear_model\\logistic.py:432: FutureWarning: Default solver will be changed to 'lbfgs' in 0.22. Specify a solver to silence this warning.\n",
      "  FutureWarning)\n",
      "C:\\Users\\LENOVO\\Anaconda3\\lib\\site-packages\\sklearn\\linear_model\\logistic.py:432: FutureWarning: Default solver will be changed to 'lbfgs' in 0.22. Specify a solver to silence this warning.\n",
      "  FutureWarning)\n",
      "C:\\Users\\LENOVO\\Anaconda3\\lib\\site-packages\\sklearn\\linear_model\\logistic.py:432: FutureWarning: Default solver will be changed to 'lbfgs' in 0.22. Specify a solver to silence this warning.\n",
      "  FutureWarning)\n",
      "C:\\Users\\LENOVO\\Anaconda3\\lib\\site-packages\\sklearn\\linear_model\\logistic.py:432: FutureWarning: Default solver will be changed to 'lbfgs' in 0.22. Specify a solver to silence this warning.\n",
      "  FutureWarning)\n",
      "C:\\Users\\LENOVO\\Anaconda3\\lib\\site-packages\\sklearn\\linear_model\\logistic.py:432: FutureWarning: Default solver will be changed to 'lbfgs' in 0.22. Specify a solver to silence this warning.\n",
      "  FutureWarning)\n",
      "C:\\Users\\LENOVO\\Anaconda3\\lib\\site-packages\\sklearn\\linear_model\\logistic.py:432: FutureWarning: Default solver will be changed to 'lbfgs' in 0.22. Specify a solver to silence this warning.\n",
      "  FutureWarning)\n",
      "C:\\Users\\LENOVO\\Anaconda3\\lib\\site-packages\\sklearn\\linear_model\\logistic.py:432: FutureWarning: Default solver will be changed to 'lbfgs' in 0.22. Specify a solver to silence this warning.\n",
      "  FutureWarning)\n",
      "C:\\Users\\LENOVO\\Anaconda3\\lib\\site-packages\\sklearn\\linear_model\\logistic.py:432: FutureWarning: Default solver will be changed to 'lbfgs' in 0.22. Specify a solver to silence this warning.\n",
      "  FutureWarning)\n",
      "C:\\Users\\LENOVO\\Anaconda3\\lib\\site-packages\\sklearn\\linear_model\\logistic.py:432: FutureWarning: Default solver will be changed to 'lbfgs' in 0.22. Specify a solver to silence this warning.\n",
      "  FutureWarning)\n"
     ]
    },
    {
     "name": "stdout",
     "output_type": "stream",
     "text": [
      "Cross Validation Score: 61.30%\n"
     ]
    },
    {
     "name": "stderr",
     "output_type": "stream",
     "text": [
      "C:\\Users\\LENOVO\\Anaconda3\\lib\\site-packages\\sklearn\\linear_model\\logistic.py:432: FutureWarning: Default solver will be changed to 'lbfgs' in 0.22. Specify a solver to silence this warning.\n",
      "  FutureWarning)\n"
     ]
    },
    {
     "name": "stdout",
     "output_type": "stream",
     "text": [
      "Dev Set score: 60.91%\n"
     ]
    }
   ],
   "source": [
    "logreg = LogisticRegression(fit_intercept=True, penalty='l1')\n",
    "print(\"Cross Validation Score: {:.2%}\".format(np.mean(cross_val_score(logreg, X_train, Y_train, cv=10))))\n",
    "logreg.fit(X_train, Y_train)\n",
    "print(\"Dev Set score: {:.2%}\".format(logreg.score(X_dev, Y_dev)))"
   ]
  },
  {
   "cell_type": "code",
   "execution_count": 62,
   "metadata": {
    "colab": {
     "base_uri": "https://localhost:8080/",
     "height": 54
    },
    "colab_type": "code",
    "executionInfo": {
     "elapsed": 14722,
     "status": "ok",
     "timestamp": 1565870869022,
     "user": {
      "displayName": "devi endrawati",
      "photoUrl": "",
      "userId": "07128640360415640249"
     },
     "user_tz": -420
    },
    "id": "dlAc_UYrGQZi",
    "outputId": "1bca03e0-1c6a-46a5-a067-0d8697daa7d3"
   },
   "outputs": [
    {
     "name": "stdout",
     "output_type": "stream",
     "text": [
      "Cross Validation Score: 79.37%\n",
      "Dev Set score: 80.25%\n"
     ]
    }
   ],
   "source": [
    "knn2 =  KNeighborsClassifier()\n",
    "print(\"Cross Validation Score: {:.2%}\".format(np.mean(cross_val_score(knn2, X_train, Y_train, cv=10))))\n",
    "knn2.fit(X_train, Y_train)\n",
    "print(\"Dev Set score: {:.2%}\".format(knn2.score(X_dev, Y_dev)))"
   ]
  },
  {
   "cell_type": "code",
   "execution_count": 63,
   "metadata": {
    "colab": {
     "base_uri": "https://localhost:8080/",
     "height": 54
    },
    "colab_type": "code",
    "executionInfo": {
     "elapsed": 12692,
     "status": "ok",
     "timestamp": 1565870869314,
     "user": {
      "displayName": "devi endrawati",
      "photoUrl": "",
      "userId": "07128640360415640249"
     },
     "user_tz": -420
    },
    "id": "lkJOF3VMGQZ3",
    "outputId": "408d85be-60ad-49dc-ebe4-84cba05e9dae"
   },
   "outputs": [
    {
     "name": "stdout",
     "output_type": "stream",
     "text": [
      "Cross Validation Score: 66.11%\n",
      "Dev Set score: 65.82%\n"
     ]
    }
   ],
   "source": [
    "nb = GaussianNB()\n",
    "print(\"Cross Validation Score: {:.2%}\".format(np.mean(cross_val_score(nb, X_train, Y_train, cv=10))))\n",
    "nb.fit(X_train, Y_train)\n",
    "print(\"Dev Set score: {:.2%}\".format(nb.score(X_dev, Y_dev)))"
   ]
  },
  {
   "cell_type": "code",
   "execution_count": 64,
   "metadata": {
    "colab": {
     "base_uri": "https://localhost:8080/",
     "height": 54
    },
    "colab_type": "code",
    "executionInfo": {
     "elapsed": 22224,
     "status": "ok",
     "timestamp": 1565870881042,
     "user": {
      "displayName": "devi endrawati",
      "photoUrl": "",
      "userId": "07128640360415640249"
     },
     "user_tz": -420
    },
    "id": "qxhZ-h5PGQaA",
    "outputId": "cefc1db1-60be-4cd7-de33-767c8019e09b"
   },
   "outputs": [
    {
     "name": "stdout",
     "output_type": "stream",
     "text": [
      "Cross Validation Score: 87.82%\n",
      "Dev Set score: 88.19%\n"
     ]
    }
   ],
   "source": [
    "dt = DecisionTreeClassifier()\n",
    "print(\"Cross Validation Score: {:.2%}\".format(np.mean(cross_val_score(dt, X_train, Y_train, cv=10))))\n",
    "dt.fit(X_train, Y_train)\n",
    "print(\"Dev Set score: {:.2%}\".format(dt.score(X_dev, Y_dev)))"
   ]
  },
  {
   "cell_type": "code",
   "execution_count": 65,
   "metadata": {
    "colab": {
     "base_uri": "https://localhost:8080/",
     "height": 54
    },
    "colab_type": "code",
    "executionInfo": {
     "elapsed": 30784,
     "status": "ok",
     "timestamp": 1565870892121,
     "user": {
      "displayName": "devi endrawati",
      "photoUrl": "",
      "userId": "07128640360415640249"
     },
     "user_tz": -420
    },
    "id": "le2xa_e4GQgC",
    "outputId": "97405815-ceb1-476c-b60b-aa1e5a3e9ded"
   },
   "outputs": [
    {
     "name": "stdout",
     "output_type": "stream",
     "text": [
      "Cross Validation Score: 87.77%\n",
      "Dev Set score: 88.21%\n"
     ]
    }
   ],
   "source": [
    "rf = RandomForestClassifier(n_estimators=100)\n",
    "print(\"Cross Validation Score: {:.2%}\".format(np.mean(cross_val_score(dt, X_train, Y_train, cv=10))))\n",
    "dt.fit(X_train, Y_train)\n",
    "print(\"Dev Set score: {:.2%}\".format(dt.score(X_dev, Y_dev)))"
   ]
  },
  {
   "cell_type": "code",
   "execution_count": 66,
   "metadata": {
    "colab": {
     "base_uri": "https://localhost:8080/",
     "height": 217
    },
    "colab_type": "code",
    "executionInfo": {
     "elapsed": 5356,
     "status": "ok",
     "timestamp": 1565870898354,
     "user": {
      "displayName": "devi endrawati",
      "photoUrl": "",
      "userId": "07128640360415640249"
     },
     "user_tz": -420
    },
    "id": "Q5P4QRXmKC_u",
    "outputId": "e7f5341c-c5e0-474d-c797-7ca57daad0a6"
   },
   "outputs": [
    {
     "name": "stdout",
     "output_type": "stream",
     "text": [
      "[INFO] evaluating...\n",
      "              precision    recall  f1-score   support\n",
      "\n",
      "           0       0.98      0.72      0.83     26274\n",
      "           1       0.77      0.99      0.87     26004\n",
      "\n",
      "    accuracy                           0.85     52278\n",
      "   macro avg       0.88      0.85      0.85     52278\n",
      "weighted avg       0.88      0.85      0.85     52278\n",
      "\n",
      "KNN accuracy :  0.8495543058265427\n"
     ]
    }
   ],
   "source": [
    "# train the modelprint(\"[INFO] using '{}' model\".format(model_name))\n",
    "model = models[\"knn\"]\n",
    "model.fit(X_train, Y_train) #fit untuk melakukan proses training\n",
    "# make predictions on our data and show a classification report\n",
    "print(\"[INFO] evaluating...\")\n",
    "predictions = model.predict(X_test)\n",
    "print(classification_report(Y_test, predictions)) #classification_report untuk melakukan hasilnya\n",
    "\n",
    "print(\"KNN accuracy : \",accuracy_score(Y_test, predictions , normalize = True))\n",
    "acc_knn = accuracy_score(Y_test, predictions , normalize = True)\n",
    "precision_knn = precision_score(Y_test, predictions)\n",
    "recall_knn = recall_score(Y_test,  predictions)\n",
    "auc_knn = roc_auc_score(Y_test,  predictions)"
   ]
  },
  {
   "cell_type": "code",
   "execution_count": 67,
   "metadata": {
    "colab": {
     "base_uri": "https://localhost:8080/",
     "height": 217
    },
    "colab_type": "code",
    "executionInfo": {
     "elapsed": 779,
     "status": "ok",
     "timestamp": 1565870901242,
     "user": {
      "displayName": "devi endrawati",
      "photoUrl": "",
      "userId": "07128640360415640249"
     },
     "user_tz": -420
    },
    "id": "nHiY4LAXKDWP",
    "outputId": "ff677894-5bf4-41fa-bdb9-8881eaf4ca9c"
   },
   "outputs": [
    {
     "name": "stdout",
     "output_type": "stream",
     "text": [
      "[INFO] evaluating...\n",
      "              precision    recall  f1-score   support\n",
      "\n",
      "           0       0.65      0.70      0.67     26274\n",
      "           1       0.67      0.63      0.65     26004\n",
      "\n",
      "    accuracy                           0.66     52278\n",
      "   macro avg       0.66      0.66      0.66     52278\n",
      "weighted avg       0.66      0.66      0.66     52278\n",
      "\n",
      "naive_bayes accuracy :  0.6625157810168714\n"
     ]
    }
   ],
   "source": [
    "# train the modelprint(\"[INFO] using '{}' model\".format(model_name))\n",
    "model = models[\"naive_bayes\"]\n",
    "model.fit(X_train, Y_train) #fit untuk melakukan proses training\n",
    "# make predictions on our data and show a classification report\n",
    "print(\"[INFO] evaluating...\")\n",
    "predictions = model.predict(X_test)\n",
    "print(classification_report(Y_test, predictions)) #classification_report untuk melakukan hasilnya\n",
    "\n",
    "print(\"naive_bayes accuracy : \",accuracy_score(Y_test, predictions , normalize = True))\n",
    "acc_nb = accuracy_score(Y_test, predictions , normalize = True)\n",
    "precision_nb = precision_score(Y_test, predictions)\n",
    "recall_nb = recall_score(Y_test,  predictions)\n",
    "auc_nb = roc_auc_score(Y_test,  predictions)"
   ]
  },
  {
   "cell_type": "code",
   "execution_count": 68,
   "metadata": {
    "colab": {
     "base_uri": "https://localhost:8080/",
     "height": 217
    },
    "colab_type": "code",
    "executionInfo": {
     "elapsed": 2048,
     "status": "ok",
     "timestamp": 1565870907704,
     "user": {
      "displayName": "devi endrawati",
      "photoUrl": "",
      "userId": "07128640360415640249"
     },
     "user_tz": -420
    },
    "id": "VEhPQO0ZKDuX",
    "outputId": "7a07db0c-5fd5-43bb-8248-610da31380f6"
   },
   "outputs": [
    {
     "name": "stdout",
     "output_type": "stream",
     "text": [
      "[INFO] evaluating...\n",
      "              precision    recall  f1-score   support\n",
      "\n",
      "           0       0.98      0.98      0.98     26274\n",
      "           1       0.97      0.98      0.98     26004\n",
      "\n",
      "    accuracy                           0.98     52278\n",
      "   macro avg       0.98      0.98      0.98     52278\n",
      "weighted avg       0.98      0.98      0.98     52278\n",
      "\n",
      "decision_tree accuracy :  0.976376295956234\n"
     ]
    }
   ],
   "source": [
    "model = models[\"decision_tree\"]\n",
    "model.fit(X_train, Y_train) #fit untuk melakukan proses training\n",
    "# make predictions on our data and show a classification report\n",
    "print(\"[INFO] evaluating...\")\n",
    "predictions = model.predict(X_test)\n",
    "print(classification_report(Y_test, predictions)) #classification_report untuk melakukan hasilnya\n",
    "\n",
    "print(\"decision_tree accuracy : \",accuracy_score(Y_test, predictions , normalize = True))\n",
    "acc_dt = accuracy_score(Y_test, predictions , normalize = True)\n",
    "precision_dt = precision_score(Y_test, predictions)\n",
    "recall_dt = recall_score(Y_test,  predictions)\n",
    "auc_dt = roc_auc_score(Y_test,  predictions)"
   ]
  },
  {
   "cell_type": "code",
   "execution_count": 69,
   "metadata": {
    "colab": {
     "base_uri": "https://localhost:8080/",
     "height": 217
    },
    "colab_type": "code",
    "executionInfo": {
     "elapsed": 20792,
     "status": "ok",
     "timestamp": 1565870959051,
     "user": {
      "displayName": "devi endrawati",
      "photoUrl": "",
      "userId": "07128640360415640249"
     },
     "user_tz": -420
    },
    "id": "ieRbJ1enKEDP",
    "outputId": "17821202-9ab0-4e37-efb9-6aab775511f8"
   },
   "outputs": [
    {
     "name": "stdout",
     "output_type": "stream",
     "text": [
      "[INFO] evaluating...\n",
      "              precision    recall  f1-score   support\n",
      "\n",
      "           0       0.98      1.00      0.99     26274\n",
      "           1       1.00      0.97      0.99     26004\n",
      "\n",
      "    accuracy                           0.99     52278\n",
      "   macro avg       0.99      0.99      0.99     52278\n",
      "weighted avg       0.99      0.99      0.99     52278\n",
      "\n",
      "random_forest accuracy :  0.9870691304181491\n"
     ]
    }
   ],
   "source": [
    "# train the modelprint(\"[INFO] using '{}' model\".format(model_name))\n",
    "model = models[\"random_forest\"]\n",
    "model.fit(X_train, Y_train) #fit untuk melakukan proses training\n",
    "# make predictions on our data and show a classification report\n",
    "print(\"[INFO] evaluating...\")\n",
    "predictions = model.predict(X_test)\n",
    "print(classification_report(Y_test, predictions)) #classification_report untuk melakukan hasilnya\n",
    "\n",
    "print(\"random_forest accuracy : \",accuracy_score(Y_test, predictions , normalize = True))\n",
    "acc_rf = accuracy_score(Y_test, predictions , normalize = True)\n",
    "precision_rf = precision_score(Y_test, predictions)\n",
    "recall_rf = recall_score(Y_test,  predictions)\n",
    "auc_rf = roc_auc_score(Y_test,  predictions)"
   ]
  },
  {
   "cell_type": "code",
   "execution_count": 70,
   "metadata": {
    "colab": {
     "base_uri": "https://localhost:8080/",
     "height": 274
    },
    "colab_type": "code",
    "executionInfo": {
     "elapsed": 2438,
     "status": "ok",
     "timestamp": 1565870973079,
     "user": {
      "displayName": "devi endrawati",
      "photoUrl": "",
      "userId": "07128640360415640249"
     },
     "user_tz": -420
    },
    "id": "VZDp-pMAKEUX",
    "outputId": "ac4679a0-f736-4401-e078-b938b75ce333"
   },
   "outputs": [
    {
     "name": "stdout",
     "output_type": "stream",
     "text": [
      "[INFO] evaluating...\n",
      "              precision    recall  f1-score   support\n",
      "\n",
      "           0       0.59      0.65      0.62     26274\n",
      "           1       0.61      0.55      0.58     26004\n",
      "\n",
      "    accuracy                           0.60     52278\n",
      "   macro avg       0.60      0.60      0.60     52278\n",
      "weighted avg       0.60      0.60      0.60     52278\n",
      "\n",
      "logit accuracy :  0.6008646084394965\n"
     ]
    },
    {
     "name": "stderr",
     "output_type": "stream",
     "text": [
      "C:\\Users\\LENOVO\\Anaconda3\\lib\\site-packages\\sklearn\\linear_model\\logistic.py:947: ConvergenceWarning: lbfgs failed to converge. Increase the number of iterations.\n",
      "  \"of iterations.\", ConvergenceWarning)\n"
     ]
    }
   ],
   "source": [
    "# train the modelprint(\"[INFO] using '{}' model\".format(model_name))\n",
    "model = models[\"logit\"]\n",
    "model.fit(X_train, Y_train) #fit untuk melakukan proses training\n",
    "# make predictions on our data and show a classification report\n",
    "print(\"[INFO] evaluating...\")\n",
    "predictions = model.predict(X_test)\n",
    "print(classification_report(Y_test, predictions)) #classification_report untuk melakukan hasilnya\n",
    "\n",
    "print(\"logit accuracy : \",accuracy_score(Y_test, predictions , normalize = True))\n",
    "acc_logit = accuracy_score(Y_test, predictions , normalize = True)\n",
    "precision_logit = precision_score(Y_test, predictions)\n",
    "recall_logit = recall_score(Y_test,  predictions)\n",
    "auc_logit = roc_auc_score(Y_test,  predictions)"
   ]
  },
  {
   "cell_type": "code",
   "execution_count": 71,
   "metadata": {
    "colab": {
     "base_uri": "https://localhost:8080/",
     "height": 411
    },
    "colab_type": "code",
    "executionInfo": {
     "elapsed": 1153,
     "status": "ok",
     "timestamp": 1565871020365,
     "user": {
      "displayName": "devi endrawati",
      "photoUrl": "",
      "userId": "07128640360415640249"
     },
     "user_tz": -420
    },
    "id": "Jq4iIrIqGQgp",
    "outputId": "7e9975f7-3d89-49e5-ee44-5048702a153c"
   },
   "outputs": [
    {
     "name": "stderr",
     "output_type": "stream",
     "text": [
      "C:\\Users\\LENOVO\\Anaconda3\\lib\\site-packages\\ipykernel_launcher.py:14: MatplotlibDeprecationWarning: Adding an axes using the same arguments as a previous axes currently reuses the earlier instance.  In a future version, a new instance will always be created and returned.  Meanwhile, this warning can be suppressed, and the future behavior ensured, by passing a unique label to each axes instance.\n",
      "  \n",
      "C:\\Users\\LENOVO\\Anaconda3\\lib\\site-packages\\ipykernel_launcher.py:24: MatplotlibDeprecationWarning: Adding an axes using the same arguments as a previous axes currently reuses the earlier instance.  In a future version, a new instance will always be created and returned.  Meanwhile, this warning can be suppressed, and the future behavior ensured, by passing a unique label to each axes instance.\n",
      "C:\\Users\\LENOVO\\Anaconda3\\lib\\site-packages\\ipykernel_launcher.py:34: MatplotlibDeprecationWarning: Adding an axes using the same arguments as a previous axes currently reuses the earlier instance.  In a future version, a new instance will always be created and returned.  Meanwhile, this warning can be suppressed, and the future behavior ensured, by passing a unique label to each axes instance.\n"
     ]
    },
    {
     "data": {
      "image/png": "[encoded data removed]",
      "text/plain": [
       "<Figure size 1008x360 with 1 Axes>"
      ]
     },
     "metadata": {
      "needs_background": "light"
     },
     "output_type": "display_data"
    }
   ],
   "source": [
    "# plotting the accuracy for training and test\n",
    "plt.figure(figsize=(14, 5))\n",
    "ax = plt.subplot(111)\n",
    "\n",
    "models = ['Logistic Regression', 'KNN','Naive Bayes', 'Decision Tree',  'Random Forests ' ]\n",
    "values = [acc_logit, acc_knn , acc_nb, acc_dt, acc_rf]\n",
    "model = np.arange(len(models))\n",
    "\n",
    "plt.bar(model, values, align='center', width = 0.15, alpha=0.7, color = 'red', label= 'accuracy')\n",
    "plt.xticks(model, models)\n",
    "\n",
    "\n",
    "\n",
    "ax = plt.subplot(111)\n",
    "models = ['Logistic Regression', 'KNN','Naive Bayes', 'Decision Tree',  'Random Forests ' ]\n",
    "values = [precision_logit, precision_knn , precision_nb, precision_dt, precision_rf]\n",
    "model = np.arange(len(models))\n",
    "\n",
    "plt.bar(model+0.15, values, align='center', width = 0.15, alpha=0.7, color = 'blue', label = 'precision')\n",
    "plt.xticks(model, models)\n",
    "\n",
    "\n",
    "\n",
    "ax = plt.subplot(111)\n",
    "models = ['Logistic Regression', 'KNN','Naive Bayes', 'Decision Tree',  'Random Forests ' ]\n",
    "values = [recall_logit, recall_knn , recall_nb, recall_dt, recall_rf]\n",
    "model = np.arange(len(models))\n",
    "\n",
    "plt.bar(model+0.3, values, align='center', width = 0.15, alpha=0.7, color = 'green', label = 'recall')\n",
    "plt.xticks(model, models)\n",
    "\n",
    "\n",
    "\n",
    "ax = plt.subplot(111)\n",
    "models = ['Logistic Regression', 'KNN','Naive Bayes', 'Decision Tree',  'Random Forests ' ]\n",
    "values = [auc_logit, auc_knn , auc_nb, auc_dt, auc_rf]\n",
    "model = np.arange(len(models))\n",
    "\n",
    "plt.bar(model+0.45, values, align='center', width = 0.15, alpha=0.7, color = 'orange', label = 'AUC')\n",
    "plt.xticks(model, models)\n",
    "\n",
    "\n",
    "\n",
    "plt.ylabel('Performance Metrics for Different models')\n",
    "plt.title('Model')\n",
    "    \n",
    "# removing the axis on the top and right of the plot window\n",
    "ax.spines['right'].set_visible(False)\n",
    "ax.spines['top'].set_visible(False)\n",
    "ax.legend()\n",
    "\n",
    "plt.show()"
   ]
  },
  {
   "cell_type": "markdown",
   "metadata": {
    "colab_type": "text",
    "id": "cyxCP8w0edjJ"
   },
   "source": [
    "## Experiment Setting Model Parameter"
   ]
  },
  {
   "cell_type": "markdown",
   "metadata": {
    "colab_type": "text",
    "id": "7bk7vrTHcgmP"
   },
   "source": [
    "### Criterion = Default\n"
   ]
  },
  {
   "cell_type": "code",
   "execution_count": 72,
   "metadata": {
    "colab": {
     "base_uri": "https://localhost:8080/",
     "height": 54
    },
    "colab_type": "code",
    "executionInfo": {
     "elapsed": 3015,
     "status": "ok",
     "timestamp": 1565874712348,
     "user": {
      "displayName": "devi endrawati",
      "photoUrl": "",
      "userId": "07128640360415640249"
     },
     "user_tz": -420
    },
    "id": "1D1WDwwTZv_D",
    "outputId": "1a0e744b-a814-400b-b98f-7c6782ab4fca"
   },
   "outputs": [
    {
     "name": "stdout",
     "output_type": "stream",
     "text": [
      "[INFO] evaluating...\n",
      "random_forest accuracy :  0.9786334595814683\n"
     ]
    }
   ],
   "source": [
    "models = {\"random_forest\": RandomForestClassifier(n_estimators=10)} #n_estimators=10 default=10)The number of trees in the forest.\n",
    "model = models[\"random_forest\"]\n",
    "model.fit(X_train, Y_train) \n",
    "print(\"[INFO] evaluating...\")\n",
    "predictions = model.predict(X_test)\n",
    "#print(classification_report(Y_test, predictions))\n",
    "print(\"random_forest accuracy : \",accuracy_score(Y_test, predictions , normalize = True))\n"
   ]
  },
  {
   "cell_type": "code",
   "execution_count": 73,
   "metadata": {
    "colab": {
     "base_uri": "https://localhost:8080/",
     "height": 54
    },
    "colab_type": "code",
    "executionInfo": {
     "elapsed": 10583,
     "status": "ok",
     "timestamp": 1565874722437,
     "user": {
      "displayName": "devi endrawati",
      "photoUrl": "",
      "userId": "07128640360415640249"
     },
     "user_tz": -420
    },
    "id": "syzvB-QbZ08h",
    "outputId": "6d2baacc-39fb-441c-aa06-cff04b6aba22"
   },
   "outputs": [
    {
     "name": "stdout",
     "output_type": "stream",
     "text": [
      "[INFO] evaluating...\n",
      "random_forest accuracy :  0.9868013313439687\n"
     ]
    }
   ],
   "source": [
    "models = {\"random_forest\": RandomForestClassifier(n_estimators=50)} #n_estimators=10 default=10)The number of trees in the forest.\n",
    "model = models[\"random_forest\"]\n",
    "model.fit(X_train, Y_train) \n",
    "print(\"[INFO] evaluating...\")\n",
    "predictions = model.predict(X_test)\n",
    "#print(classification_report(Y_test, predictions))\n",
    "print(\"random_forest accuracy : \",accuracy_score(Y_test, predictions , normalize = True))\n"
   ]
  },
  {
   "cell_type": "code",
   "execution_count": 74,
   "metadata": {
    "colab": {
     "base_uri": "https://localhost:8080/",
     "height": 54
    },
    "colab_type": "code",
    "executionInfo": {
     "elapsed": 23262,
     "status": "ok",
     "timestamp": 1565874737299,
     "user": {
      "displayName": "devi endrawati",
      "photoUrl": "",
      "userId": "07128640360415640249"
     },
     "user_tz": -420
    },
    "id": "hE6DHGUJZ03y",
    "outputId": "c3a7088d-4abb-45bc-dc90-de26d5ced41e"
   },
   "outputs": [
    {
     "name": "stdout",
     "output_type": "stream",
     "text": [
      "[INFO] evaluating...\n",
      "random_forest accuracy :  0.9870308734075519\n"
     ]
    }
   ],
   "source": [
    "models = {\"random_forest\": RandomForestClassifier(n_estimators=75)} #n_estimators=10 default=10)The number of trees in the forest.\n",
    "model = models[\"random_forest\"]\n",
    "model.fit(X_train, Y_train) \n",
    "print(\"[INFO] evaluating...\")\n",
    "predictions = model.predict(X_test)\n",
    "#print(classification_report(Y_test, predictions))\n",
    "print(\"random_forest accuracy : \",accuracy_score(Y_test, predictions , normalize = True))\n"
   ]
  },
  {
   "cell_type": "code",
   "execution_count": 75,
   "metadata": {
    "colab": {
     "base_uri": "https://localhost:8080/",
     "height": 54
    },
    "colab_type": "code",
    "executionInfo": {
     "elapsed": 37994,
     "status": "ok",
     "timestamp": 1565874753095,
     "user": {
      "displayName": "devi endrawati",
      "photoUrl": "",
      "userId": "07128640360415640249"
     },
     "user_tz": -420
    },
    "id": "R0TSUDkWZ0zQ",
    "outputId": "bb8962e3-5eaa-47bb-ee7e-9652101056dd"
   },
   "outputs": [
    {
     "name": "stdout",
     "output_type": "stream",
     "text": [
      "[INFO] evaluating...\n",
      "random_forest accuracy :  0.9870882589234478\n"
     ]
    }
   ],
   "source": [
    "models = {\"random_forest\": RandomForestClassifier(n_estimators=80)} #n_estimators=10 default=10)The number of trees in the forest.\n",
    "model = models[\"random_forest\"]\n",
    "model.fit(X_train, Y_train) \n",
    "print(\"[INFO] evaluating...\")\n",
    "predictions = model.predict(X_test)\n",
    "#print(classification_report(Y_test, predictions))\n",
    "print(\"random_forest accuracy : \",accuracy_score(Y_test, predictions , normalize = True))\n"
   ]
  },
  {
   "cell_type": "code",
   "execution_count": 76,
   "metadata": {
    "colab": {
     "base_uri": "https://localhost:8080/",
     "height": 54
    },
    "colab_type": "code",
    "executionInfo": {
     "elapsed": 53645,
     "status": "ok",
     "timestamp": 1565874770653,
     "user": {
      "displayName": "devi endrawati",
      "photoUrl": "",
      "userId": "07128640360415640249"
     },
     "user_tz": -420
    },
    "id": "npHjv-jTZ0tz",
    "outputId": "9ef24de7-1755-4e86-c592-ad06ac266cd4"
   },
   "outputs": [
    {
     "name": "stdout",
     "output_type": "stream",
     "text": [
      "[INFO] evaluating...\n",
      "random_forest accuracy :  0.9867248173227744\n"
     ]
    }
   ],
   "source": [
    "models = {\"random_forest\": RandomForestClassifier(n_estimators=90)} #n_estimators=10 default=10)The number of trees in the forest.\n",
    "model = models[\"random_forest\"]\n",
    "model.fit(X_train, Y_train) \n",
    "print(\"[INFO] evaluating...\")\n",
    "predictions = model.predict(X_test)\n",
    "#print(classification_report(Y_test, predictions))\n",
    "print(\"random_forest accuracy : \",accuracy_score(Y_test, predictions , normalize = True))\n"
   ]
  },
  {
   "cell_type": "code",
   "execution_count": 77,
   "metadata": {
    "colab": {
     "base_uri": "https://localhost:8080/",
     "height": 54
    },
    "colab_type": "code",
    "executionInfo": {
     "elapsed": 72461,
     "status": "ok",
     "timestamp": 1565874790311,
     "user": {
      "displayName": "devi endrawati",
      "photoUrl": "",
      "userId": "07128640360415640249"
     },
     "user_tz": -420
    },
    "id": "k707LS2FZ0oh",
    "outputId": "0f000b13-6cd3-44a4-e383-497016374278"
   },
   "outputs": [
    {
     "name": "stdout",
     "output_type": "stream",
     "text": [
      "[INFO] evaluating...\n",
      "random_forest accuracy :  0.9869734878916562\n"
     ]
    }
   ],
   "source": [
    "models = {\"random_forest\": RandomForestClassifier(n_estimators=100)} #n_estimators=10 default=10)The number of trees in the forest.\n",
    "model = models[\"random_forest\"]\n",
    "model.fit(X_train, Y_train) \n",
    "print(\"[INFO] evaluating...\")\n",
    "predictions = model.predict(X_test)\n",
    "#print(classification_report(Y_test, predictions))\n",
    "print(\"random_forest accuracy : \",accuracy_score(Y_test, predictions , normalize = True))\n"
   ]
  },
  {
   "cell_type": "markdown",
   "metadata": {
    "colab_type": "text",
    "id": "l-U_p4dtcvQp"
   },
   "source": [
    "### Criterion = Gini"
   ]
  },
  {
   "cell_type": "code",
   "execution_count": 78,
   "metadata": {
    "colab": {
     "base_uri": "https://localhost:8080/",
     "height": 54
    },
    "colab_type": "code",
    "executionInfo": {
     "elapsed": 71506,
     "status": "ok",
     "timestamp": 1565874792445,
     "user": {
      "displayName": "devi endrawati",
      "photoUrl": "",
      "userId": "07128640360415640249"
     },
     "user_tz": -420
    },
    "id": "MXUtdinWSVs3",
    "outputId": "3d3dfe4a-0e86-43b8-e5e2-bd25de91f8f3"
   },
   "outputs": [
    {
     "name": "stdout",
     "output_type": "stream",
     "text": [
      "[INFO] evaluating...\n",
      "random_forest accuracy :  0.9784421745284824\n"
     ]
    }
   ],
   "source": [
    "models = {\"random_forest\": RandomForestClassifier(n_estimators=10, criterion=\"gini\")} #n_estimators=10 default=10)The number of trees in the forest.\n",
    "model = models[\"random_forest\"]\n",
    "model.fit(X_train, Y_train) \n",
    "print(\"[INFO] evaluating...\")\n",
    "predictions = model.predict(X_test)\n",
    "#print(classification_report(Y_test, predictions))\n",
    "print(\"random_forest accuracy : \",accuracy_score(Y_test, predictions , normalize = True))\n"
   ]
  },
  {
   "cell_type": "code",
   "execution_count": 79,
   "metadata": {
    "colab": {
     "base_uri": "https://localhost:8080/",
     "height": 54
    },
    "colab_type": "code",
    "executionInfo": {
     "elapsed": 77155,
     "status": "ok",
     "timestamp": 1565874802264,
     "user": {
      "displayName": "devi endrawati",
      "photoUrl": "",
      "userId": "07128640360415640249"
     },
     "user_tz": -420
    },
    "id": "_nr5NgpHGQhe",
    "outputId": "9b3283d8-2e31-4274-a85b-71302951befa"
   },
   "outputs": [
    {
     "name": "stdout",
     "output_type": "stream",
     "text": [
      "[INFO] evaluating...\n",
      "random_forest accuracy :  0.986743945828073\n"
     ]
    }
   ],
   "source": [
    "models = {\"random_forest\": RandomForestClassifier(n_estimators=50, criterion=\"gini\")} #n_estimators=50 default=10)The number of trees in the forest.\n",
    "model = models[\"random_forest\"]\n",
    "model.fit(X_train, Y_train) \n",
    "print(\"[INFO] evaluating...\")\n",
    "predictions = model.predict(X_test)\n",
    "#print(classification_report(Y_test, predictions))\n",
    "print(\"random_forest accuracy : \",accuracy_score(Y_test, predictions , normalize = True))\n"
   ]
  },
  {
   "cell_type": "code",
   "execution_count": 80,
   "metadata": {
    "colab": {
     "base_uri": "https://localhost:8080/",
     "height": 54
    },
    "colab_type": "code",
    "executionInfo": {
     "elapsed": 90348,
     "status": "ok",
     "timestamp": 1565874816770,
     "user": {
      "displayName": "devi endrawati",
      "photoUrl": "",
      "userId": "07128640360415640249"
     },
     "user_tz": -420
    },
    "id": "cvHDvBIOVQpE",
    "outputId": "3e603516-25c8-4c08-ed04-7e9dfc56421a"
   },
   "outputs": [
    {
     "name": "stdout",
     "output_type": "stream",
     "text": [
      "[INFO] evaluating...\n",
      "random_forest accuracy :  0.9870117449022533\n"
     ]
    }
   ],
   "source": [
    "models = {\"random_forest\": RandomForestClassifier(n_estimators=75, criterion=\"gini\")} #n_estimators=10 default=10)The number of trees in the forest.\n",
    "model = models[\"random_forest\"]\n",
    "model.fit(X_train, Y_train) \n",
    "print(\"[INFO] evaluating...\")\n",
    "predictions = model.predict(X_test)\n",
    "#print(classification_report(Y_test, predictions))\n",
    "print(\"random_forest accuracy : \",accuracy_score(Y_test, predictions , normalize = True))\n"
   ]
  },
  {
   "cell_type": "code",
   "execution_count": 81,
   "metadata": {
    "colab": {
     "base_uri": "https://localhost:8080/",
     "height": 54
    },
    "colab_type": "code",
    "executionInfo": {
     "elapsed": 102463,
     "status": "ok",
     "timestamp": 1565874832543,
     "user": {
      "displayName": "devi endrawati",
      "photoUrl": "",
      "userId": "07128640360415640249"
     },
     "user_tz": -420
    },
    "id": "CDHKPNPtPoL0",
    "outputId": "c92548f1-afdf-4280-9547-411d783a57ea"
   },
   "outputs": [
    {
     "name": "stdout",
     "output_type": "stream",
     "text": [
      "[INFO] evaluating...\n",
      "random_forest accuracy :  0.9870500019128505\n"
     ]
    }
   ],
   "source": [
    "models = {\"random_forest\": RandomForestClassifier(n_estimators=80, criterion=\"gini\")} #n_estimators=80\n",
    "model = models[\"random_forest\"]\n",
    "model.fit(X_train, Y_train) \n",
    "print(\"[INFO] evaluating...\")\n",
    "predictions = model.predict(X_test)\n",
    "#print(classification_report(Y_test, predictions))\n",
    "print(\"random_forest accuracy : \",accuracy_score(Y_test, predictions , normalize = True))\n"
   ]
  },
  {
   "cell_type": "code",
   "execution_count": 82,
   "metadata": {
    "colab": {
     "base_uri": "https://localhost:8080/",
     "height": 54
    },
    "colab_type": "code",
    "executionInfo": {
     "elapsed": 118891,
     "status": "ok",
     "timestamp": 1565874850416,
     "user": {
      "displayName": "devi endrawati",
      "photoUrl": "",
      "userId": "07128640360415640249"
     },
     "user_tz": -420
    },
    "id": "a3yxsKf7VTT1",
    "outputId": "08f27808-12e5-457b-f55d-e330504e2d27"
   },
   "outputs": [
    {
     "name": "stdout",
     "output_type": "stream",
     "text": [
      "[INFO] evaluating...\n",
      "random_forest accuracy :  0.9870500019128505\n"
     ]
    }
   ],
   "source": [
    "models = {\"random_forest\": RandomForestClassifier(n_estimators=90, criterion=\"gini\")} #n_estimators=10 default=10)The number of trees in the forest.\n",
    "model = models[\"random_forest\"]\n",
    "model.fit(X_train, Y_train) \n",
    "print(\"[INFO] evaluating...\")\n",
    "predictions = model.predict(X_test)\n",
    "#print(classification_report(Y_test, predictions))\n",
    "print(\"random_forest accuracy : \",accuracy_score(Y_test, predictions , normalize = True))\n"
   ]
  },
  {
   "cell_type": "code",
   "execution_count": 83,
   "metadata": {
    "colab": {
     "base_uri": "https://localhost:8080/",
     "height": 54
    },
    "colab_type": "code",
    "executionInfo": {
     "elapsed": 136238,
     "status": "ok",
     "timestamp": 1565874870180,
     "user": {
      "displayName": "devi endrawati",
      "photoUrl": "",
      "userId": "07128640360415640249"
     },
     "user_tz": -420
    },
    "id": "HI8Ec1DWSc-A",
    "outputId": "fc162515-8ccc-40cb-a4fc-511b84b91218"
   },
   "outputs": [
    {
     "name": "stdout",
     "output_type": "stream",
     "text": [
      "[INFO] evaluating...\n",
      "random_forest accuracy :  0.9870308734075519\n"
     ]
    }
   ],
   "source": [
    "models = {\"random_forest\": RandomForestClassifier(n_estimators=100, criterion=\"gini\")} #n_estimators=100 default=10)The number of trees in the forest.\n",
    "model = models[\"random_forest\"]\n",
    "model.fit(X_train, Y_train) \n",
    "print(\"[INFO] evaluating...\")\n",
    "predictions = model.predict(X_test)\n",
    "#print(classification_report(Y_test, predictions))\n",
    "print(\"random_forest accuracy : \",accuracy_score(Y_test, predictions , normalize = True))\n"
   ]
  },
  {
   "cell_type": "markdown",
   "metadata": {
    "colab_type": "text",
    "id": "WEweBqTrc0Ze"
   },
   "source": [
    "### Criterion = Entropy"
   ]
  },
  {
   "cell_type": "code",
   "execution_count": 84,
   "metadata": {
    "colab": {
     "base_uri": "https://localhost:8080/",
     "height": 54
    },
    "colab_type": "code",
    "executionInfo": {
     "elapsed": 133349,
     "status": "ok",
     "timestamp": 1565874872710,
     "user": {
      "displayName": "devi endrawati",
      "photoUrl": "",
      "userId": "07128640360415640249"
     },
     "user_tz": -420
    },
    "id": "ny2Z8nwUTp74",
    "outputId": "79dcb2d6-e999-4473-cd0d-6acabd57c202"
   },
   "outputs": [
    {
     "name": "stdout",
     "output_type": "stream",
     "text": [
      "[INFO] evaluating...\n",
      "random_forest accuracy :  0.9794751138146065\n"
     ]
    }
   ],
   "source": [
    "models = {\"random_forest\": RandomForestClassifier(n_estimators=10, criterion=\"entropy\")} #n_estimators=10 default=10)The number of trees in the forest.\n",
    "model = models[\"random_forest\"]\n",
    "model.fit(X_train, Y_train) \n",
    "print(\"[INFO] evaluating...\")\n",
    "predictions = model.predict(X_test)\n",
    "#print(classification_report(Y_test, predictions))\n",
    "print(\"random_forest accuracy : \",accuracy_score(Y_test, predictions , normalize = True))\n"
   ]
  },
  {
   "cell_type": "code",
   "execution_count": 85,
   "metadata": {
    "colab": {
     "base_uri": "https://localhost:8080/",
     "height": 54
    },
    "colab_type": "code",
    "executionInfo": {
     "elapsed": 144042,
     "status": "ok",
     "timestamp": 1565874885105,
     "user": {
      "displayName": "devi endrawati",
      "photoUrl": "",
      "userId": "07128640360415640249"
     },
     "user_tz": -420
    },
    "id": "PVA9uPPLTqGw",
    "outputId": "c9bc39f0-a095-41c8-9487-5979faebfbd7"
   },
   "outputs": [
    {
     "name": "stdout",
     "output_type": "stream",
     "text": [
      "[INFO] evaluating...\n",
      "random_forest accuracy :  0.98664830330158\n"
     ]
    }
   ],
   "source": [
    "models = {\"random_forest\": RandomForestClassifier(n_estimators=50, criterion=\"entropy\")} #n_estimators=10 default=10)The number of trees in the forest.\n",
    "model = models[\"random_forest\"]\n",
    "model.fit(X_train, Y_train) \n",
    "print(\"[INFO] evaluating...\")\n",
    "predictions = model.predict(X_test)\n",
    "#print(classification_report(Y_test, predictions))\n",
    "print(\"random_forest accuracy : \",accuracy_score(Y_test, predictions , normalize = True))\n"
   ]
  },
  {
   "cell_type": "code",
   "execution_count": 86,
   "metadata": {
    "colab": {
     "base_uri": "https://localhost:8080/",
     "height": 54
    },
    "colab_type": "code",
    "executionInfo": {
     "elapsed": 160355,
     "status": "ok",
     "timestamp": 1565874903554,
     "user": {
      "displayName": "devi endrawati",
      "photoUrl": "",
      "userId": "07128640360415640249"
     },
     "user_tz": -420
    },
    "id": "gb83xquzVbtY",
    "outputId": "814a8a9a-ac11-4146-a32a-0c8753501572"
   },
   "outputs": [
    {
     "name": "stdout",
     "output_type": "stream",
     "text": [
      "[INFO] evaluating...\n",
      "random_forest accuracy :  0.9868013313439687\n"
     ]
    }
   ],
   "source": [
    "models = {\"random_forest\": RandomForestClassifier(n_estimators=75, criterion=\"entropy\")} #n_estimators=10 default=10)The number of trees in the forest.\n",
    "model = models[\"random_forest\"]\n",
    "model.fit(X_train, Y_train) \n",
    "print(\"[INFO] evaluating...\")\n",
    "predictions = model.predict(X_test)\n",
    "#print(classification_report(Y_test, predictions))\n",
    "print(\"random_forest accuracy : \",accuracy_score(Y_test, predictions , normalize = True))\n"
   ]
  },
  {
   "cell_type": "code",
   "execution_count": 87,
   "metadata": {
    "colab": {
     "base_uri": "https://localhost:8080/",
     "height": 54
    },
    "colab_type": "code",
    "executionInfo": {
     "elapsed": 176482,
     "status": "ok",
     "timestamp": 1565874923114,
     "user": {
      "displayName": "devi endrawati",
      "photoUrl": "",
      "userId": "07128640360415640249"
     },
     "user_tz": -420
    },
    "id": "zDGyTWnyTqP-",
    "outputId": "8b09eab3-3c12-44ac-9738-5d8ddfd89c07"
   },
   "outputs": [
    {
     "name": "stdout",
     "output_type": "stream",
     "text": [
      "[INFO] evaluating...\n",
      "random_forest accuracy :  0.9868778453651632\n"
     ]
    }
   ],
   "source": [
    "models = {\"random_forest\": RandomForestClassifier(n_estimators=80, criterion=\"entropy\")} #n_estimators=10 default=10)The number of trees in the forest.\n",
    "model = models[\"random_forest\"]\n",
    "model.fit(X_train, Y_train) \n",
    "print(\"[INFO] evaluating...\")\n",
    "predictions = model.predict(X_test)\n",
    "#print(classification_report(Y_test, predictions))\n",
    "print(\"random_forest accuracy : \",accuracy_score(Y_test, predictions , normalize = True))\n"
   ]
  },
  {
   "cell_type": "code",
   "execution_count": 88,
   "metadata": {
    "colab": {
     "base_uri": "https://localhost:8080/",
     "height": 54
    },
    "colab_type": "code",
    "executionInfo": {
     "elapsed": 195643,
     "status": "ok",
     "timestamp": 1565874945048,
     "user": {
      "displayName": "devi endrawati",
      "photoUrl": "",
      "userId": "07128640360415640249"
     },
     "user_tz": -420
    },
    "id": "aJoND_uIVeB-",
    "outputId": "10dc52c2-58fb-440f-a826-607e3667da87"
   },
   "outputs": [
    {
     "name": "stdout",
     "output_type": "stream",
     "text": [
      "[INFO] evaluating...\n",
      "random_forest accuracy :  0.986935230881059\n"
     ]
    }
   ],
   "source": [
    "models = {\"random_forest\": RandomForestClassifier(n_estimators=90, criterion=\"entropy\")} #n_estimators=10 default=10)The number of trees in the forest.\n",
    "model = models[\"random_forest\"]\n",
    "model.fit(X_train, Y_train) \n",
    "print(\"[INFO] evaluating...\")\n",
    "predictions = model.predict(X_test)\n",
    "#print(classification_report(Y_test, predictions))\n",
    "print(\"random_forest accuracy : \",accuracy_score(Y_test, predictions , normalize = True))\n"
   ]
  },
  {
   "cell_type": "code",
   "execution_count": 89,
   "metadata": {
    "colab": {
     "base_uri": "https://localhost:8080/",
     "height": 54
    },
    "colab_type": "code",
    "executionInfo": {
     "elapsed": 217753,
     "status": "ok",
     "timestamp": 1565874969906,
     "user": {
      "displayName": "devi endrawati",
      "photoUrl": "",
      "userId": "07128640360415640249"
     },
     "user_tz": -420
    },
    "id": "FClf884DUVuq",
    "outputId": "bd448e58-38db-4522-ad04-28a980cb7b31"
   },
   "outputs": [
    {
     "name": "stdout",
     "output_type": "stream",
     "text": [
      "[INFO] evaluating...\n",
      "random_forest accuracy :  0.9869161023757603\n"
     ]
    }
   ],
   "source": [
    "models = {\"random_forest\": RandomForestClassifier(n_estimators=100, criterion=\"entropy\")} #n_estimators=10 default=10)The number of trees in the forest.\n",
    "model = models[\"random_forest\"]\n",
    "model.fit(X_train, Y_train) \n",
    "print(\"[INFO] evaluating...\")\n",
    "predictions = model.predict(X_test)\n",
    "#print(classification_report(Y_test, predictions))\n",
    "print(\"random_forest accuracy : \",accuracy_score(Y_test, predictions , normalize = True))\n"
   ]
  },
  {
   "cell_type": "code",
   "execution_count": null,
   "metadata": {},
   "outputs": [],
   "source": []
  },
  {
   "cell_type": "code",
   "execution_count": null,
   "metadata": {},
   "outputs": [],
   "source": []
  },
  {
   "cell_type": "code",
   "execution_count": null,
   "metadata": {},
   "outputs": [],
   "source": []
  },
  {
   "cell_type": "code",
   "execution_count": null,
   "metadata": {},
   "outputs": [],
   "source": []
  },
  {
   "cell_type": "code",
   "execution_count": null,
   "metadata": {},
   "outputs": [],
   "source": []
  },
  {
   "cell_type": "code",
   "execution_count": null,
   "metadata": {},
   "outputs": [],
   "source": []
  },
  {
   "cell_type": "code",
   "execution_count": null,
   "metadata": {},
   "outputs": [],
   "source": []
  }
 ],
 "metadata": {
  "colab": {
   "collapsed_sections": [
    "NJUvQ2fddNZ4",
    "KtpXFcu7dZJ4",
    "YDnPhw_Bdrk4",
    "7SKfJpLxGQYI",
    "_YpdVvkgeDrV",
    "cyxCP8w0edjJ",
    "7bk7vrTHcgmP",
    "l-U_p4dtcvQp",
    "WEweBqTrc0Ze"
   ],
   "name": "Bismillah Project Akhir .ipynb",
   "provenance": [],
   "version": "0.3.2"
  },
  "kernelspec": {
   "display_name": "Python 3",
   "language": "python",
   "name": "python3"
  },
  "language_info": {
   "codemirror_mode": {
    "name": "ipython",
    "version": 3
   },
   "file_extension": ".py",
   "mimetype": "text/x-python",
   "name": "python",
   "nbconvert_exporter": "python",
   "pygments_lexer": "ipython3",
   "version": "3.7.3"
  }
 },
 "nbformat": 4,
 "nbformat_minor": 1
}
